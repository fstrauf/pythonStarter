{
 "nbformat": 4,
 "nbformat_minor": 2,
 "metadata": {
  "language_info": {
   "name": "python",
   "codemirror_mode": {
    "name": "ipython",
    "version": 3
   },
   "version": "3.7.4-final"
  },
  "orig_nbformat": 2,
  "file_extension": ".py",
  "mimetype": "text/x-python",
  "name": "python",
  "npconvert_exporter": "python",
  "pygments_lexer": "ipython3",
  "version": 3,
  "kernelspec": {
   "name": "python35664bitenvziplinecondad50ec081b67c4e81bfb43f9a9d899dfd",
   "display_name": "Python 3.5.6 64-bit ('env_zipline': conda)"
  }
 },
 "cells": [
  {
   "cell_type": "code",
   "execution_count": 1,
   "metadata": {},
   "outputs": [],
   "source": [
    "import zipline\n",
    "# from zipline.examples import buyapple\n",
    "\n",
    "%load_ext zipline"
   ]
  },
  {
   "cell_type": "code",
   "execution_count": 2,
   "metadata": {},
   "outputs": [
    {
     "ename": "NameError",
     "evalue": "name 'get_fundamentals' is not defined",
     "output_type": "error",
     "traceback": [
      "\u001b[0;31m---------------------------------------------------------------------------\u001b[0m",
      "\u001b[0;31mNameError\u001b[0m                                 Traceback (most recent call last)",
      "\u001b[0;32m<ipython-input-2-e9fd2d491ce7>\u001b[0m in \u001b[0;36m<module>\u001b[0;34m()\u001b[0m\n\u001b[0;32m----> 1\u001b[0;31m \u001b[0mget_ipython\u001b[0m\u001b[0;34m(\u001b[0m\u001b[0;34m)\u001b[0m\u001b[0;34m.\u001b[0m\u001b[0mrun_cell_magic\u001b[0m\u001b[0;34m(\u001b[0m\u001b[0;34m'zipline'\u001b[0m\u001b[0;34m,\u001b[0m \u001b[0;34m'--start 2014-1-1 --end 2018-1-1 -o data/dma.pickle --capital-base 1000'\u001b[0m\u001b[0;34m,\u001b[0m \u001b[0;34m'\\n\\nfrom zipline.api import order, order_target, record, symbol, order_value\\nimport matplotlib.pyplot as plt\\nfrom yahoofinancials import YahooFinancials\\n\\n# For this example, we\\'re going to write a simple momentum script.  \\n# When the stock goes up quickly, we\\'re going to buy; \\n# when it goes down we\\'re going to sell.  \\n# Hopefully we\\'ll ride the waves.\\n\\n# To run an algorithm in Quantopian, you need two functions: \\n# initialize and handle_data.\\ndef initialize(context):\\n    # The initialize function sets any data or variables that \\n    # you\\'ll use in your algorithm. \\n    # For instance, you\\'ll want to define the security \\n    # (or securities) you want to backtest.  \\n    # You\\'ll also want to define any parameters or values \\n    # you\\'re going to use later. \\n    # It\\'s only called once at the beginning of your algorithm.\\n    \\n    # In our example, we\\'re looking at Apple.  \\n    # If you re-type this line you\\'ll see \\n    # the auto-complete that is available for security. \\n    context.security = symbol(\\'AAPL\\')\\n\\n    # limit the number of companies returned in a fundamentals query\\n    context.limit = 10\\n\\ndef before_trading_start(context, data):\\n    context.fundamentals = get_fundamentals(\\n        query(\\n            fundamentals.valuation_ratios.pb_ratio,\\n            fundamentals.valuation_ratios.pe_ratio,\\n        )\\n        .filter(\\n            fundamentals.valuation_ratios.pe_ratio < 14\\n        )\\n        .filter(\\n            fundamentals.valuation_ratios.pb_ratio < 2\\n        )\\n        .order_by(\\n            fundamentals.valuation.market_cap.desc()\\n        )\\n        .limit(context.limit)\\n    )\\n    \\n    update_universe(context.fundamentals.columns.values)\\n\\n# The handle_data function is where the real work is done.  \\n# This function is run either every minute \\n# (in live trading and minute backtesting mode) \\n# or every day (in daily backtesting mode).\\ndef handle_data(context, data):\\n    # We\\'ve built a handful of useful data transforms for you to use,\\n    # such as moving average. \\n    \\n    # To make market decisions, we\\'re calculating the stock\\'s \\n    # moving average for the last 5 days and its current price. \\n    average_price = data[context.security].mavg(5)\\n    current_price = data[context.security].price\\n    MA1 = data[context.security].mavg(50)\\n    MA2 = data[context.security].mavg(200)\\n    current_positions = context.portfolio.positions[context.security].amount\\n    \\n    # Another powerful built-in feature of the Quantopian backtester is the\\n    # portfolio object.  The portfolio object tracks your positions, cash,\\n    # cost basis of specific holdings, and more.  In this line, we calculate\\n    # the current amount of cash in our portfolio.   \\n    cash = context.portfolio.cash\\n    print(\"cash before trade %s\" % (cash))\\n\\n    for stock in data:\\n        current_position = context.portfolio.positions[stock].amount\\n        stock_price = data[stock].price\\n        plausible_investment = cash / context.limit\\n     \\n        share_amount = int(plausible_investment / stock_price)\\n\\n        try:\\n                if stock_price < plausible_investment:\\n                    if current_position == 0:\\n                        if context.fundamentals[stock][\\'pe_ratio\\'] < 11:\\n                            order(stock, share_amount)\\n    \\n        except Exception as e:\\n            print(str(e))\\n    \\n    # Here is the meat of our algorithm.\\n    # If the current price is 1% above the 5-day average price \\n    # AND we have enough cash, then we will order.\\n    # If the current price is below the average price, \\n    # then we want to close our position to 0 shares.\\n\\n    # if current_price > 1.01*average_price and cash > current_price:\\n        \\n    #     # Need to calculate how many shares we can buy\\n    #     number_of_shares = int(cash/current_price)\\n        \\n    #     # Place the buy order (positive means buy, negative means sell)\\n    #     order(context.security, +number_of_shares)\\n    #     print(\"Buying %s %s\" % (number_of_shares, context.security.symbol))\\n        \\n\\n    # elif current_price < average_price:\\n        \\n    #     # Sell all of our shares by setting the target position to zero\\n    #     order_target(context.security, 0)\\n    #     print(\"Selling %s\" % (context.security.symbol))\\n    \\n    # You can use the record() method to track any custom signal. \\n    # The record graph tracks up to five different variables. \\n    # Here we record the Apple stock price.\\n    record(stock_price=data[context.security].price)'\u001b[0m\u001b[0;34m)\u001b[0m\u001b[0;34m\u001b[0m\u001b[0m\n\u001b[0m",
      "\u001b[0;32m~/opt/anaconda3/envs/env_zipline/lib/python3.5/site-packages/IPython/core/interactiveshell.py\u001b[0m in \u001b[0;36mrun_cell_magic\u001b[0;34m(self, magic_name, line, cell)\u001b[0m\n\u001b[1;32m   2165\u001b[0m             \u001b[0mmagic_arg_s\u001b[0m \u001b[0;34m=\u001b[0m \u001b[0mself\u001b[0m\u001b[0;34m.\u001b[0m\u001b[0mvar_expand\u001b[0m\u001b[0;34m(\u001b[0m\u001b[0mline\u001b[0m\u001b[0;34m,\u001b[0m \u001b[0mstack_depth\u001b[0m\u001b[0;34m)\u001b[0m\u001b[0;34m\u001b[0m\u001b[0m\n\u001b[1;32m   2166\u001b[0m             \u001b[0;32mwith\u001b[0m \u001b[0mself\u001b[0m\u001b[0;34m.\u001b[0m\u001b[0mbuiltin_trap\u001b[0m\u001b[0;34m:\u001b[0m\u001b[0;34m\u001b[0m\u001b[0m\n\u001b[0;32m-> 2167\u001b[0;31m                 \u001b[0mresult\u001b[0m \u001b[0;34m=\u001b[0m \u001b[0mfn\u001b[0m\u001b[0;34m(\u001b[0m\u001b[0mmagic_arg_s\u001b[0m\u001b[0;34m,\u001b[0m \u001b[0mcell\u001b[0m\u001b[0;34m)\u001b[0m\u001b[0;34m\u001b[0m\u001b[0m\n\u001b[0m\u001b[1;32m   2168\u001b[0m             \u001b[0;32mreturn\u001b[0m \u001b[0mresult\u001b[0m\u001b[0;34m\u001b[0m\u001b[0m\n\u001b[1;32m   2169\u001b[0m \u001b[0;34m\u001b[0m\u001b[0m\n",
      "\u001b[0;32m~/opt/anaconda3/envs/env_zipline/lib/python3.5/site-packages/zipline/__main__.py\u001b[0m in \u001b[0;36mzipline_magic\u001b[0;34m(line, cell)\u001b[0m\n\u001b[1;32m    309\u001b[0m             \u001b[0;34m'%s%%zipline'\u001b[0m \u001b[0;34m%\u001b[0m \u001b[0;34m(\u001b[0m\u001b[0;34m(\u001b[0m\u001b[0mcell\u001b[0m \u001b[0;32mor\u001b[0m \u001b[0;34m''\u001b[0m\u001b[0;34m)\u001b[0m \u001b[0;32mand\u001b[0m \u001b[0;34m'%'\u001b[0m\u001b[0;34m)\u001b[0m\u001b[0;34m,\u001b[0m\u001b[0;34m\u001b[0m\u001b[0m\n\u001b[1;32m    310\u001b[0m             \u001b[0;31m# don't use system exit and propogate errors to the caller\u001b[0m\u001b[0;34m\u001b[0m\u001b[0;34m\u001b[0m\u001b[0m\n\u001b[0;32m--> 311\u001b[0;31m             \u001b[0mstandalone_mode\u001b[0m\u001b[0;34m=\u001b[0m\u001b[0;32mFalse\u001b[0m\u001b[0;34m,\u001b[0m\u001b[0;34m\u001b[0m\u001b[0m\n\u001b[0m\u001b[1;32m    312\u001b[0m         )\n\u001b[1;32m    313\u001b[0m     \u001b[0;32mexcept\u001b[0m \u001b[0mSystemExit\u001b[0m \u001b[0;32mas\u001b[0m \u001b[0me\u001b[0m\u001b[0;34m:\u001b[0m\u001b[0;34m\u001b[0m\u001b[0m\n",
      "\u001b[0;32m~/opt/anaconda3/envs/env_zipline/lib/python3.5/site-packages/click/core.py\u001b[0m in \u001b[0;36mmain\u001b[0;34m(self, args, prog_name, complete_var, standalone_mode, **extra)\u001b[0m\n\u001b[1;32m    715\u001b[0m             \u001b[0;32mtry\u001b[0m\u001b[0;34m:\u001b[0m\u001b[0;34m\u001b[0m\u001b[0m\n\u001b[1;32m    716\u001b[0m                 \u001b[0;32mwith\u001b[0m \u001b[0mself\u001b[0m\u001b[0;34m.\u001b[0m\u001b[0mmake_context\u001b[0m\u001b[0;34m(\u001b[0m\u001b[0mprog_name\u001b[0m\u001b[0;34m,\u001b[0m \u001b[0margs\u001b[0m\u001b[0;34m,\u001b[0m \u001b[0;34m**\u001b[0m\u001b[0mextra\u001b[0m\u001b[0;34m)\u001b[0m \u001b[0;32mas\u001b[0m \u001b[0mctx\u001b[0m\u001b[0;34m:\u001b[0m\u001b[0;34m\u001b[0m\u001b[0m\n\u001b[0;32m--> 717\u001b[0;31m                     \u001b[0mrv\u001b[0m \u001b[0;34m=\u001b[0m \u001b[0mself\u001b[0m\u001b[0;34m.\u001b[0m\u001b[0minvoke\u001b[0m\u001b[0;34m(\u001b[0m\u001b[0mctx\u001b[0m\u001b[0;34m)\u001b[0m\u001b[0;34m\u001b[0m\u001b[0m\n\u001b[0m\u001b[1;32m    718\u001b[0m                     \u001b[0;32mif\u001b[0m \u001b[0;32mnot\u001b[0m \u001b[0mstandalone_mode\u001b[0m\u001b[0;34m:\u001b[0m\u001b[0;34m\u001b[0m\u001b[0m\n\u001b[1;32m    719\u001b[0m                         \u001b[0;32mreturn\u001b[0m \u001b[0mrv\u001b[0m\u001b[0;34m\u001b[0m\u001b[0m\n",
      "\u001b[0;32m~/opt/anaconda3/envs/env_zipline/lib/python3.5/site-packages/click/core.py\u001b[0m in \u001b[0;36minvoke\u001b[0;34m(self, ctx)\u001b[0m\n\u001b[1;32m    954\u001b[0m         \u001b[0m_maybe_show_deprecated_notice\u001b[0m\u001b[0;34m(\u001b[0m\u001b[0mself\u001b[0m\u001b[0;34m)\u001b[0m\u001b[0;34m\u001b[0m\u001b[0m\n\u001b[1;32m    955\u001b[0m         \u001b[0;32mif\u001b[0m \u001b[0mself\u001b[0m\u001b[0;34m.\u001b[0m\u001b[0mcallback\u001b[0m \u001b[0;32mis\u001b[0m \u001b[0;32mnot\u001b[0m \u001b[0;32mNone\u001b[0m\u001b[0;34m:\u001b[0m\u001b[0;34m\u001b[0m\u001b[0m\n\u001b[0;32m--> 956\u001b[0;31m             \u001b[0;32mreturn\u001b[0m \u001b[0mctx\u001b[0m\u001b[0;34m.\u001b[0m\u001b[0minvoke\u001b[0m\u001b[0;34m(\u001b[0m\u001b[0mself\u001b[0m\u001b[0;34m.\u001b[0m\u001b[0mcallback\u001b[0m\u001b[0;34m,\u001b[0m \u001b[0;34m**\u001b[0m\u001b[0mctx\u001b[0m\u001b[0;34m.\u001b[0m\u001b[0mparams\u001b[0m\u001b[0;34m)\u001b[0m\u001b[0;34m\u001b[0m\u001b[0m\n\u001b[0m\u001b[1;32m    957\u001b[0m \u001b[0;34m\u001b[0m\u001b[0m\n\u001b[1;32m    958\u001b[0m \u001b[0;34m\u001b[0m\u001b[0m\n",
      "\u001b[0;32m~/opt/anaconda3/envs/env_zipline/lib/python3.5/site-packages/click/core.py\u001b[0m in \u001b[0;36minvoke\u001b[0;34m(*args, **kwargs)\u001b[0m\n\u001b[1;32m    553\u001b[0m         \u001b[0;32mwith\u001b[0m \u001b[0maugment_usage_errors\u001b[0m\u001b[0;34m(\u001b[0m\u001b[0mself\u001b[0m\u001b[0;34m)\u001b[0m\u001b[0;34m:\u001b[0m\u001b[0;34m\u001b[0m\u001b[0m\n\u001b[1;32m    554\u001b[0m             \u001b[0;32mwith\u001b[0m \u001b[0mctx\u001b[0m\u001b[0;34m:\u001b[0m\u001b[0;34m\u001b[0m\u001b[0m\n\u001b[0;32m--> 555\u001b[0;31m                 \u001b[0;32mreturn\u001b[0m \u001b[0mcallback\u001b[0m\u001b[0;34m(\u001b[0m\u001b[0;34m*\u001b[0m\u001b[0margs\u001b[0m\u001b[0;34m,\u001b[0m \u001b[0;34m**\u001b[0m\u001b[0mkwargs\u001b[0m\u001b[0;34m)\u001b[0m\u001b[0;34m\u001b[0m\u001b[0m\n\u001b[0m\u001b[1;32m    556\u001b[0m \u001b[0;34m\u001b[0m\u001b[0m\n\u001b[1;32m    557\u001b[0m     \u001b[0;32mdef\u001b[0m \u001b[0mforward\u001b[0m\u001b[0;34m(\u001b[0m\u001b[0;34m*\u001b[0m\u001b[0margs\u001b[0m\u001b[0;34m,\u001b[0m \u001b[0;34m**\u001b[0m\u001b[0mkwargs\u001b[0m\u001b[0;34m)\u001b[0m\u001b[0;34m:\u001b[0m\u001b[0;34m\u001b[0m\u001b[0m\n",
      "\u001b[0;32m~/opt/anaconda3/envs/env_zipline/lib/python3.5/site-packages/click/decorators.py\u001b[0m in \u001b[0;36mnew_func\u001b[0;34m(*args, **kwargs)\u001b[0m\n\u001b[1;32m     15\u001b[0m     \"\"\"\n\u001b[1;32m     16\u001b[0m     \u001b[0;32mdef\u001b[0m \u001b[0mnew_func\u001b[0m\u001b[0;34m(\u001b[0m\u001b[0;34m*\u001b[0m\u001b[0margs\u001b[0m\u001b[0;34m,\u001b[0m \u001b[0;34m**\u001b[0m\u001b[0mkwargs\u001b[0m\u001b[0;34m)\u001b[0m\u001b[0;34m:\u001b[0m\u001b[0;34m\u001b[0m\u001b[0m\n\u001b[0;32m---> 17\u001b[0;31m         \u001b[0;32mreturn\u001b[0m \u001b[0mf\u001b[0m\u001b[0;34m(\u001b[0m\u001b[0mget_current_context\u001b[0m\u001b[0;34m(\u001b[0m\u001b[0;34m)\u001b[0m\u001b[0;34m,\u001b[0m \u001b[0;34m*\u001b[0m\u001b[0margs\u001b[0m\u001b[0;34m,\u001b[0m \u001b[0;34m**\u001b[0m\u001b[0mkwargs\u001b[0m\u001b[0;34m)\u001b[0m\u001b[0;34m\u001b[0m\u001b[0m\n\u001b[0m\u001b[1;32m     18\u001b[0m     \u001b[0;32mreturn\u001b[0m \u001b[0mupdate_wrapper\u001b[0m\u001b[0;34m(\u001b[0m\u001b[0mnew_func\u001b[0m\u001b[0;34m,\u001b[0m \u001b[0mf\u001b[0m\u001b[0;34m)\u001b[0m\u001b[0;34m\u001b[0m\u001b[0m\n\u001b[1;32m     19\u001b[0m \u001b[0;34m\u001b[0m\u001b[0m\n",
      "\u001b[0;32m~/opt/anaconda3/envs/env_zipline/lib/python3.5/site-packages/zipline/__main__.py\u001b[0m in \u001b[0;36mrun\u001b[0;34m(ctx, algofile, algotext, define, data_frequency, capital_base, bundle, bundle_timestamp, start, end, output, trading_calendar, print_algo, metrics_set, local_namespace, blotter)\u001b[0m\n\u001b[1;32m    274\u001b[0m         \u001b[0mlocal_namespace\u001b[0m\u001b[0;34m=\u001b[0m\u001b[0mlocal_namespace\u001b[0m\u001b[0;34m,\u001b[0m\u001b[0;34m\u001b[0m\u001b[0m\n\u001b[1;32m    275\u001b[0m         \u001b[0menviron\u001b[0m\u001b[0;34m=\u001b[0m\u001b[0mos\u001b[0m\u001b[0;34m.\u001b[0m\u001b[0menviron\u001b[0m\u001b[0;34m,\u001b[0m\u001b[0;34m\u001b[0m\u001b[0m\n\u001b[0;32m--> 276\u001b[0;31m         \u001b[0mblotter\u001b[0m\u001b[0;34m=\u001b[0m\u001b[0mblotter\u001b[0m\u001b[0;34m,\u001b[0m\u001b[0;34m\u001b[0m\u001b[0m\n\u001b[0m\u001b[1;32m    277\u001b[0m     )\n\u001b[1;32m    278\u001b[0m \u001b[0;34m\u001b[0m\u001b[0m\n",
      "\u001b[0;32m~/opt/anaconda3/envs/env_zipline/lib/python3.5/site-packages/zipline/utils/run_algo.py\u001b[0m in \u001b[0;36m_run\u001b[0;34m(handle_data, initialize, before_trading_start, analyze, algofile, algotext, defines, data_frequency, capital_base, data, bundle, bundle_timestamp, start, end, output, trading_calendar, print_algo, metrics_set, local_namespace, environ, blotter)\u001b[0m\n\u001b[1;32m    227\u001b[0m     \u001b[0;34m)\u001b[0m\u001b[0;34m.\u001b[0m\u001b[0mrun\u001b[0m\u001b[0;34m(\u001b[0m\u001b[0;34m\u001b[0m\u001b[0m\n\u001b[1;32m    228\u001b[0m         \u001b[0mdata\u001b[0m\u001b[0;34m,\u001b[0m\u001b[0;34m\u001b[0m\u001b[0m\n\u001b[0;32m--> 229\u001b[0;31m         \u001b[0moverwrite_sim_params\u001b[0m\u001b[0;34m=\u001b[0m\u001b[0;32mFalse\u001b[0m\u001b[0;34m,\u001b[0m\u001b[0;34m\u001b[0m\u001b[0m\n\u001b[0m\u001b[1;32m    230\u001b[0m     )\n\u001b[1;32m    231\u001b[0m \u001b[0;34m\u001b[0m\u001b[0m\n",
      "\u001b[0;32m~/opt/anaconda3/envs/env_zipline/lib/python3.5/site-packages/zipline/algorithm.py\u001b[0m in \u001b[0;36mrun\u001b[0;34m(self, data, overwrite_sim_params)\u001b[0m\n\u001b[1;32m    754\u001b[0m         \u001b[0;32mtry\u001b[0m\u001b[0;34m:\u001b[0m\u001b[0;34m\u001b[0m\u001b[0m\n\u001b[1;32m    755\u001b[0m             \u001b[0mperfs\u001b[0m \u001b[0;34m=\u001b[0m \u001b[0;34m[\u001b[0m\u001b[0;34m]\u001b[0m\u001b[0;34m\u001b[0m\u001b[0m\n\u001b[0;32m--> 756\u001b[0;31m             \u001b[0;32mfor\u001b[0m \u001b[0mperf\u001b[0m \u001b[0;32min\u001b[0m \u001b[0mself\u001b[0m\u001b[0;34m.\u001b[0m\u001b[0mget_generator\u001b[0m\u001b[0;34m(\u001b[0m\u001b[0;34m)\u001b[0m\u001b[0;34m:\u001b[0m\u001b[0;34m\u001b[0m\u001b[0m\n\u001b[0m\u001b[1;32m    757\u001b[0m                 \u001b[0mperfs\u001b[0m\u001b[0;34m.\u001b[0m\u001b[0mappend\u001b[0m\u001b[0;34m(\u001b[0m\u001b[0mperf\u001b[0m\u001b[0;34m)\u001b[0m\u001b[0;34m\u001b[0m\u001b[0m\n\u001b[1;32m    758\u001b[0m \u001b[0;34m\u001b[0m\u001b[0m\n",
      "\u001b[0;32m~/opt/anaconda3/envs/env_zipline/lib/python3.5/site-packages/zipline/gens/tradesimulation.py\u001b[0m in \u001b[0;36mtransform\u001b[0;34m(self)\u001b[0m\n\u001b[1;32m    222\u001b[0m                     \u001b[0mself\u001b[0m\u001b[0;34m.\u001b[0m\u001b[0msimulation_dt\u001b[0m \u001b[0;34m=\u001b[0m \u001b[0mdt\u001b[0m\u001b[0;34m\u001b[0m\u001b[0m\n\u001b[1;32m    223\u001b[0m                     \u001b[0malgo\u001b[0m\u001b[0;34m.\u001b[0m\u001b[0mon_dt_changed\u001b[0m\u001b[0;34m(\u001b[0m\u001b[0mdt\u001b[0m\u001b[0;34m)\u001b[0m\u001b[0;34m\u001b[0m\u001b[0m\n\u001b[0;32m--> 224\u001b[0;31m                     \u001b[0malgo\u001b[0m\u001b[0;34m.\u001b[0m\u001b[0mbefore_trading_start\u001b[0m\u001b[0;34m(\u001b[0m\u001b[0mself\u001b[0m\u001b[0;34m.\u001b[0m\u001b[0mcurrent_data\u001b[0m\u001b[0;34m)\u001b[0m\u001b[0;34m\u001b[0m\u001b[0m\n\u001b[0m\u001b[1;32m    225\u001b[0m                 \u001b[0;32melif\u001b[0m \u001b[0maction\u001b[0m \u001b[0;34m==\u001b[0m \u001b[0mMINUTE_END\u001b[0m\u001b[0;34m:\u001b[0m\u001b[0;34m\u001b[0m\u001b[0m\n\u001b[1;32m    226\u001b[0m                     minute_msg = self._get_minute_message(\n",
      "\u001b[0;32m~/opt/anaconda3/envs/env_zipline/lib/python3.5/site-packages/zipline/algorithm.py\u001b[0m in \u001b[0;36mbefore_trading_start\u001b[0;34m(self, data)\u001b[0m\n\u001b[1;32m    461\u001b[0m         \u001b[0;32mwith\u001b[0m \u001b[0mhandle_non_market_minutes\u001b[0m\u001b[0;34m(\u001b[0m\u001b[0mdata\u001b[0m\u001b[0;34m)\u001b[0m \u001b[0;32mif\u001b[0m\u001b[0;31m \u001b[0m\u001b[0;31m\\\u001b[0m\u001b[0;34m\u001b[0m\u001b[0m\n\u001b[1;32m    462\u001b[0m                 \u001b[0mself\u001b[0m\u001b[0;34m.\u001b[0m\u001b[0mdata_frequency\u001b[0m \u001b[0;34m==\u001b[0m \u001b[0;34m\"minute\"\u001b[0m \u001b[0;32melse\u001b[0m \u001b[0mExitStack\u001b[0m\u001b[0;34m(\u001b[0m\u001b[0;34m)\u001b[0m\u001b[0;34m:\u001b[0m\u001b[0;34m\u001b[0m\u001b[0m\n\u001b[0;32m--> 463\u001b[0;31m             \u001b[0mself\u001b[0m\u001b[0;34m.\u001b[0m\u001b[0m_before_trading_start\u001b[0m\u001b[0;34m(\u001b[0m\u001b[0mself\u001b[0m\u001b[0;34m,\u001b[0m \u001b[0mdata\u001b[0m\u001b[0;34m)\u001b[0m\u001b[0;34m\u001b[0m\u001b[0m\n\u001b[0m\u001b[1;32m    464\u001b[0m \u001b[0;34m\u001b[0m\u001b[0m\n\u001b[1;32m    465\u001b[0m         \u001b[0mself\u001b[0m\u001b[0;34m.\u001b[0m\u001b[0m_in_before_trading_start\u001b[0m \u001b[0;34m=\u001b[0m \u001b[0;32mFalse\u001b[0m\u001b[0;34m\u001b[0m\u001b[0m\n",
      "\u001b[0;32m<algorithm>\u001b[0m in \u001b[0;36mbefore_trading_start\u001b[0;34m(context, data)\u001b[0m\n",
      "\u001b[0;31mNameError\u001b[0m: name 'get_fundamentals' is not defined"
     ]
    }
   ],
   "source": [
    "%%zipline --start 2014-1-1 --end 2018-1-1 -o data/dma.pickle --capital-base 1000\n",
    "\n",
    "\n",
    "from zipline.api import order, order_target, record, symbol, order_value\n",
    "import matplotlib.pyplot as plt\n",
    "from yahoofinancials import YahooFinancials\n",
    "\n",
    "# For this example, we're going to write a simple momentum script.  \n",
    "# When the stock goes up quickly, we're going to buy; \n",
    "# when it goes down we're going to sell.  \n",
    "# Hopefully we'll ride the waves.\n",
    "\n",
    "# To run an algorithm in Quantopian, you need two functions: \n",
    "# initialize and handle_data.\n",
    "def initialize(context):\n",
    "    # The initialize function sets any data or variables that \n",
    "    # you'll use in your algorithm. \n",
    "    # For instance, you'll want to define the security \n",
    "    # (or securities) you want to backtest.  \n",
    "    # You'll also want to define any parameters or values \n",
    "    # you're going to use later. \n",
    "    # It's only called once at the beginning of your algorithm.\n",
    "    \n",
    "    # In our example, we're looking at Apple.  \n",
    "    # If you re-type this line you'll see \n",
    "    # the auto-complete that is available for security. \n",
    "    context.security = symbol('AAPL')\n",
    "\n",
    "    # limit the number of companies returned in a fundamentals query\n",
    "    context.limit = 10\n",
    "\n",
    "def before_trading_start(context, data):\n",
    "    context.fundamentals = get_fundamentals(\n",
    "        query(\n",
    "            fundamentals.valuation_ratios.pb_ratio,\n",
    "            fundamentals.valuation_ratios.pe_ratio,\n",
    "        )\n",
    "        .filter(\n",
    "            fundamentals.valuation_ratios.pe_ratio < 14\n",
    "        )\n",
    "        .filter(\n",
    "            fundamentals.valuation_ratios.pb_ratio < 2\n",
    "        )\n",
    "        .order_by(\n",
    "            fundamentals.valuation.market_cap.desc()\n",
    "        )\n",
    "        .limit(context.limit)\n",
    "    )\n",
    "    \n",
    "    update_universe(context.fundamentals.columns.values)\n",
    "\n",
    "# The handle_data function is where the real work is done.  \n",
    "# This function is run either every minute \n",
    "# (in live trading and minute backtesting mode) \n",
    "# or every day (in daily backtesting mode).\n",
    "def handle_data(context, data):\n",
    "    # We've built a handful of useful data transforms for you to use,\n",
    "    # such as moving average. \n",
    "    \n",
    "    # To make market decisions, we're calculating the stock's \n",
    "    # moving average for the last 5 days and its current price. \n",
    "    average_price = data[context.security].mavg(5)\n",
    "    current_price = data[context.security].price\n",
    "    MA1 = data[context.security].mavg(50)\n",
    "    MA2 = data[context.security].mavg(200)\n",
    "    current_positions = context.portfolio.positions[context.security].amount\n",
    "    \n",
    "    # Another powerful built-in feature of the Quantopian backtester is the\n",
    "    # portfolio object.  The portfolio object tracks your positions, cash,\n",
    "    # cost basis of specific holdings, and more.  In this line, we calculate\n",
    "    # the current amount of cash in our portfolio.   \n",
    "    cash = context.portfolio.cash\n",
    "    print(\"cash before trade %s\" % (cash))\n",
    "\n",
    "    for stock in data:\n",
    "        current_position = context.portfolio.positions[stock].amount\n",
    "        stock_price = data[stock].price\n",
    "        plausible_investment = cash / context.limit\n",
    "     \n",
    "        share_amount = int(plausible_investment / stock_price)\n",
    "\n",
    "        try:\n",
    "                if stock_price < plausible_investment:\n",
    "                    if current_position == 0:\n",
    "                        if context.fundamentals[stock]['pe_ratio'] < 11:\n",
    "                            order(stock, share_amount)\n",
    "    \n",
    "        except Exception as e:\n",
    "            print(str(e))\n",
    "    \n",
    "    # Here is the meat of our algorithm.\n",
    "    # If the current price is 1% above the 5-day average price \n",
    "    # AND we have enough cash, then we will order.\n",
    "    # If the current price is below the average price, \n",
    "    # then we want to close our position to 0 shares.\n",
    "\n",
    "    # if current_price > 1.01*average_price and cash > current_price:\n",
    "        \n",
    "    #     # Need to calculate how many shares we can buy\n",
    "    #     number_of_shares = int(cash/current_price)\n",
    "        \n",
    "    #     # Place the buy order (positive means buy, negative means sell)\n",
    "    #     order(context.security, +number_of_shares)\n",
    "    #     print(\"Buying %s %s\" % (number_of_shares, context.security.symbol))\n",
    "        \n",
    "\n",
    "    # elif current_price < average_price:\n",
    "        \n",
    "    #     # Sell all of our shares by setting the target position to zero\n",
    "    #     order_target(context.security, 0)\n",
    "    #     print(\"Selling %s\" % (context.security.symbol))\n",
    "    \n",
    "    # You can use the record() method to track any custom signal. \n",
    "    # The record graph tracks up to five different variables. \n",
    "    # Here we record the Apple stock price.\n",
    "    record(stock_price=data[context.security].price)"
   ]
  },
  {
   "cell_type": "code",
   "execution_count": 55,
   "metadata": {},
   "outputs": [],
   "source": [
    "from iexfinance.refdata import get_symbols\n",
    "from iexfinance.stocks import Stock, get_collections\n",
    "import pandas as pd\n",
    "\n",
    "# symbols=get_symbols(output_format='pandas', token=\"pk_1dd03915b1bd48c8aa96fa6340d2bab1\")"
   ]
  },
  {
   "cell_type": "code",
   "execution_count": 328,
   "metadata": {},
   "outputs": [],
   "source": [
    "symbols['type']='cs'\n",
    "symbols_only=symbols[['symbol']]\n",
    "\n",
    "stockList = symbols_only.head(200).values.flatten().tolist()"
   ]
  },
  {
   "cell_type": "code",
   "execution_count": 294,
   "metadata": {},
   "outputs": [
    {
     "data": {
      "text/plain": "10"
     },
     "execution_count": 294,
     "metadata": {},
     "output_type": "execute_result"
    }
   ],
   "source": [
    "shares['peRatio']\n",
    "shares['sharesOutstanding']\n",
    "shares.columns\n",
    "len(stockList)"
   ]
  },
  {
   "cell_type": "code",
   "execution_count": 335,
   "metadata": {},
   "outputs": [],
   "source": [
    "def batchCallApi(symbols, types, filt):\n",
    "    token='pk_1dd03915b1bd48c8aa96fa6340d2bab1'\n",
    "    baseUrl = 'https://cloud.iexapis.com/stable/stock/market/batch?'\n",
    "    route = 'symbols={}&types={}&token={}&filter={}'.format(','.join(symbols), types, token, filt)\n",
    "    print(baseUrl+route)\n",
    "    # resp = requests.get(baseUrl+route)\n",
    "    # if resp.status_code == 200:\n",
    "    #     return resp.json()\n",
    "    # print('Response %d - ' % resp.status_code, resp.text)"
   ]
  },
  {
   "cell_type": "code",
   "execution_count": 322,
   "metadata": {},
   "outputs": [],
   "source": [
    "# out=batchCallApi(stockList,'pk_1dd03915b1bd48c8aa96fa6340d2bab1','stats,book','peRatio, sharesOutstanding')"
   ]
  },
  {
   "cell_type": "code",
   "execution_count": 336,
   "metadata": {},
   "outputs": [
    {
     "name": "stdout",
     "output_type": "stream",
     "text": "https://cloud.iexapis.com/stable/stock/market/batch?symbols=A,AA,AAAU,AACG,AADR,AAL,AAMC,AAME,AAN,AAOI,AAON,AAP,AAPL,AAT,AAU,AAWW,AAXJ,AAXN,AB,ABB,ABBV,ABC,ABCB,ABEO,ABEQ,ABEV,ABG,ABIO,ABM,ABMD,ABR,ABR-A,ABR-B,ABR-C,ABT,ABTX,ABUS,AC,ACA,ACAD,ACAM,ACAMU,ACAMW,ACB,ACBI,ACC,ACCO,ACEL,ACEL+,ACER,ACES,ACGL,ACGLO,ACGLP,ACH,ACHC,ACHV,ACIA,ACIO,ACIU,ACIW,ACLS,ACM,ACMR,ACN,ACNB,ACOR,ACP,ACRE,ACRS,ACRX,ACSG,ACSI,ACST,ACT,ACTG,ACTT,ACTTU,ACTTW,ACU,ACV,ACWF,ACWI,ACWV,ACWX,ACY,ADAP,ADBE,ADC,ADES,ADI,ADIL,ADILW,ADM,ADMA,ADME,ADMP,ADMS,ADNT&types=stats, book&token=pk_1dd03915b1bd48c8aa96fa6340d2bab1&filter=peRatio, sharesOutstanding\nhttps://cloud.iexapis.com/stable/stock/market/batch?symbols=ADP,ADPT,ADRE,ADRO,ADS,ADSK,ADSW,ADT,ADTN,ADUS,ADVM,ADX,ADXN,ADXS,AE,AEB,AEE,AEF,AEFC,AEG,AEGN,AEHR,AEIS,AEL,AEL-A,AEM,AEMD,AEO,AEP,AEP-B,AER,AERI,AES,AESE,AESR,AEY,AEYE,AEZS,AFB,AFC,AFG,AFGB,AFGC,AFGH,AFH,AFI,AFIF,AFIN,AFINP,AFK,AFL,AFLG,AFMC,AFMD,AFSM,AFT,AFTY,AFYA,AG,AGBA,AGBAR,AGBAU,AGBAW,AGCO,AGD,AGE,AGEN,AGFS,AGFSW,AGG,AGGP,AGGY,AGI,AGIO,AGLE,AGM,AGM.A,AGM-A,AGM-C,AGM-D,AGMH,AGN,AGNC,AGNCM,AGNCN,AGNCO,AGNCP,AGND,AGO,AGO-B,AGO-E,AGO-F,AGQ,AGR,AGRO,AGRX,AGS,AGT,AGTC&types=stats, book&token=pk_1dd03915b1bd48c8aa96fa6340d2bab1&filter=peRatio, sharesOutstanding\nhttps://cloud.iexapis.com/stable/stock/market/batch?symbols=AGX,AGYS&types=stats, book&token=pk_1dd03915b1bd48c8aa96fa6340d2bab1&filter=peRatio, sharesOutstanding\n"
    },
    {
     "ename": "TypeError",
     "evalue": "object of type 'NoneType' has no len()",
     "output_type": "error",
     "traceback": [
      "\u001b[0;31m---------------------------------------------------------------------------\u001b[0m",
      "\u001b[0;31mTypeError\u001b[0m                                 Traceback (most recent call last)",
      "\u001b[0;32m<ipython-input-336-116f6e6e0b59>\u001b[0m in \u001b[0;36m<module>\u001b[0;34m()\u001b[0m\n\u001b[1;32m     17\u001b[0m \u001b[0;32mfor\u001b[0m \u001b[0mi\u001b[0m\u001b[0;34m,\u001b[0m \u001b[0md\u001b[0m \u001b[0;32min\u001b[0m \u001b[0menumerate\u001b[0m\u001b[0;34m(\u001b[0m\u001b[0mrets\u001b[0m\u001b[0;34m)\u001b[0m\u001b[0;34m:\u001b[0m\u001b[0;34m\u001b[0m\u001b[0m\n\u001b[1;32m     18\u001b[0m     \u001b[0msymbols_subset\u001b[0m \u001b[0;34m=\u001b[0m \u001b[0margs\u001b[0m\u001b[0;34m[\u001b[0m\u001b[0mi\u001b[0m\u001b[0;34m]\u001b[0m\u001b[0;34m[\u001b[0m\u001b[0;36m0\u001b[0m\u001b[0;34m]\u001b[0m\u001b[0;34m\u001b[0m\u001b[0m\n\u001b[0;32m---> 19\u001b[0;31m     \u001b[0;32mif\u001b[0m \u001b[0mlen\u001b[0m\u001b[0;34m(\u001b[0m\u001b[0md\u001b[0m\u001b[0;34m)\u001b[0m \u001b[0;34m!=\u001b[0m \u001b[0mlen\u001b[0m\u001b[0;34m(\u001b[0m\u001b[0msymbols_subset\u001b[0m\u001b[0;34m)\u001b[0m\u001b[0;34m:\u001b[0m\u001b[0;34m\u001b[0m\u001b[0m\n\u001b[0m\u001b[1;32m     20\u001b[0m         \u001b[0mempty_data\u001b[0m\u001b[0;34m.\u001b[0m\u001b[0mextend\u001b[0m\u001b[0;34m(\u001b[0m\u001b[0mlist_orig\u001b[0m\u001b[0;34m(\u001b[0m\u001b[0mset\u001b[0m\u001b[0;34m(\u001b[0m\u001b[0msymbols_subset\u001b[0m\u001b[0;34m)\u001b[0m \u001b[0;34m-\u001b[0m \u001b[0mset\u001b[0m\u001b[0;34m(\u001b[0m\u001b[0md\u001b[0m\u001b[0;34m.\u001b[0m\u001b[0mkeys\u001b[0m\u001b[0;34m(\u001b[0m\u001b[0;34m)\u001b[0m\u001b[0;34m)\u001b[0m\u001b[0;34m)\u001b[0m\u001b[0;34m)\u001b[0m\u001b[0;34m\u001b[0m\u001b[0m\n\u001b[1;32m     21\u001b[0m     \u001b[0mret\u001b[0m\u001b[0;34m.\u001b[0m\u001b[0mupdate\u001b[0m\u001b[0;34m(\u001b[0m\u001b[0md\u001b[0m\u001b[0;34m)\u001b[0m\u001b[0;34m\u001b[0m\u001b[0m\n",
      "\u001b[0;31mTypeError\u001b[0m: object of type 'NoneType' has no len()"
     ]
    }
   ],
   "source": [
    "from multiprocessing.pool import ThreadPool\n",
    "args = []\n",
    "empty_data = []\n",
    "list_orig = empty_data.__class__\n",
    "types='stats, book'\n",
    "filt='peRatio, sharesOutstanding'\n",
    "\n",
    "for i in range(0, len(stockList), 99):\n",
    "    args.append((stockList[i:i+99], types, filt))\n",
    "\n",
    "pool = ThreadPool(20)\n",
    "rets = pool.starmap(batchCallApi, args)\n",
    "pool.close()\n",
    "\n",
    "ret = {}\n",
    "\n",
    "for i, d in enumerate(rets):\n",
    "    symbols_subset = args[i][0]\n",
    "    if len(d) != len(symbols_subset):\n",
    "        empty_data.extend(list_orig(set(symbols_subset) - set(d.keys())))\n",
    "    ret.update(d)\n",
    "\n",
    "for k in empty_data:\n",
    "    if k not in ret:\n",
    "        if isinstance(fields, str):\n",
    "            ret[k] = {}\n",
    "        else:\n",
    "            ret[k] = {x: {} for x in fields}\n",
    "\n",
    "ret"
   ]
  },
  {
   "cell_type": "code",
   "execution_count": 94,
   "metadata": {},
   "outputs": [],
   "source": [
    "import requests\n",
    "import json\n",
    "# https://cloud.iexapis.com/stable/stock/market/batch?symbols=[%27AAPL%27,%27TSLA%27]&types=stats&token=pk_1dd03915b1bd48c8aa96fa6340d2bab1&filter=peRatio,%20sharesOutstanding&range=max&last=1\n",
    "baseUrlGoogle = 'https://cloud.iexapis.com/stable/stock/market/batch?symbols='\n",
    "\n",
    "searchUrl = baseUrlGoogle + str(stockList) + '&types=stats, book&token=pk_1dd03915b1bd48c8aa96fa6340d2bab1'\n",
    "searchRes = requests.get(searchUrl)\n"
   ]
  },
  {
   "cell_type": "code",
   "execution_count": 327,
   "metadata": {},
   "outputs": [],
   "source": [
    "# import pyEX as p\n",
    "# c = p.Client(api_token='pk_1dd03915b1bd48c8aa96fa6340d2bab1')\n",
    "# res=c.bulkBatch(symbols=stockList, fields=['stats','book'])\n",
    "# c.batch(symbols=['AAPL','TSLA'], fiel)\n"
   ]
  },
  {
   "cell_type": "code",
   "execution_count": 326,
   "metadata": {},
   "outputs": [
    {
     "data": {
      "text/html": "<div>\n<style scoped>\n    .dataframe tbody tr th:only-of-type {\n        vertical-align: middle;\n    }\n\n    .dataframe tbody tr th {\n        vertical-align: top;\n    }\n\n    .dataframe thead th {\n        text-align: right;\n    }\n</style>\n<table border=\"1\" class=\"dataframe\">\n  <thead>\n    <tr style=\"text-align: right;\">\n      <th></th>\n      <th></th>\n      <th>peRatio</th>\n      <th>sharesOutstanding</th>\n    </tr>\n  </thead>\n  <tbody>\n    <tr>\n      <th>A</th>\n      <th>0</th>\n      <td>32.85</td>\n      <td>310768000</td>\n    </tr>\n    <tr>\n      <th>AA</th>\n      <th>0</th>\n      <td>-1.96</td>\n      <td>185915000</td>\n    </tr>\n    <tr>\n      <th>AAAU</th>\n      <th>0</th>\n      <td>NaN</td>\n      <td>12100000</td>\n    </tr>\n    <tr>\n      <th>AACG</th>\n      <th>0</th>\n      <td>-2.12</td>\n      <td>28020495</td>\n    </tr>\n    <tr>\n      <th>AADR</th>\n      <th>0</th>\n      <td>NaN</td>\n      <td>2250000</td>\n    </tr>\n    <tr>\n      <th>AAL</th>\n      <th>0</th>\n      <td>4.21</td>\n      <td>426059000</td>\n    </tr>\n    <tr>\n      <th>AAMC</th>\n      <th>0</th>\n      <td>-13.33</td>\n      <td>1619000</td>\n    </tr>\n    <tr>\n      <th>AAME</th>\n      <th>0</th>\n      <td>-27.45</td>\n      <td>20480000</td>\n    </tr>\n    <tr>\n      <th>AAN</th>\n      <th>0</th>\n      <td>79.05</td>\n      <td>66745000</td>\n    </tr>\n    <tr>\n      <th>AAOI</th>\n      <th>0</th>\n      <td>-2.74</td>\n      <td>20231000</td>\n    </tr>\n  </tbody>\n</table>\n</div>",
      "text/plain": "        peRatio  sharesOutstanding\nA    0    32.85          310768000\nAA   0    -1.96          185915000\nAAAU 0      NaN           12100000\nAACG 0    -2.12           28020495\nAADR 0      NaN            2250000\nAAL  0     4.21          426059000\nAAMC 0   -13.33            1619000\nAAME 0   -27.45           20480000\nAAN  0    79.05           66745000\nAAOI 0    -2.74           20231000"
     },
     "execution_count": 326,
     "metadata": {},
     "output_type": "execute_result"
    }
   ],
   "source": [
    "dfStock=pd.DataFrame(out)\n",
    "dfStock=dfStock.transpose()\n",
    "dfStock = pd.concat([pd.DataFrame(x,index=[0]) for x in dfStock['stats']], keys=dfStock.index)\n",
    "dfStock"
   ]
  },
  {
   "cell_type": "code",
   "execution_count": 290,
   "metadata": {},
   "outputs": [
    {
     "data": {
      "text/plain": "Index(['avg10Volume', 'avg30Volume', 'beta', 'companyName', 'day200MovingAvg',\n       'day30ChangePercent', 'day50MovingAvg', 'day5ChangePercent',\n       'dividendYield', 'employees', 'exDividendDate', 'float', 'marketcap',\n       'maxChangePercent', 'month1ChangePercent', 'month3ChangePercent',\n       'month6ChangePercent', 'nextDividendDate', 'nextEarningsDate',\n       'peRatio', 'sharesOutstanding', 'ttmDividendRate', 'ttmEPS',\n       'week52change', 'week52high', 'week52low', 'year1ChangePercent',\n       'year2ChangePercent', 'year5ChangePercent', 'ytdChangePercent'],\n      dtype='object')"
     },
     "execution_count": 290,
     "metadata": {},
     "output_type": "execute_result"
    }
   ],
   "source": [
    "dfFiltered=dfStock\n",
    "dfFiltered=dfFiltered.dropna(subset=['peRatio'])\n",
    "# dfStock.columns()\n",
    "dfFiltered = dfFiltered[(dfFiltered['peRatio'].astype(float)<15) & (dfFiltered['peRatio'].astype(float)>0)]\n",
    "dfFiltered['peRatio']\n",
    "dfFiltered.columns"
   ]
  },
  {
   "cell_type": "code",
   "execution_count": null,
   "metadata": {},
   "outputs": [],
   "source": []
  }
 ]
}