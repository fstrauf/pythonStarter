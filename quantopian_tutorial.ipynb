{
 "nbformat": 4,
 "nbformat_minor": 2,
 "metadata": {
  "language_info": {
   "name": "python",
   "codemirror_mode": {
    "name": "ipython",
    "version": 3
   },
   "version": "3.5.6-final"
  },
  "orig_nbformat": 2,
  "file_extension": ".py",
  "mimetype": "text/x-python",
  "name": "python",
  "npconvert_exporter": "python",
  "pygments_lexer": "ipython3",
  "version": 3,
  "kernelspec": {
   "name": "python35664bitenvziplinecondad50ec081b67c4e81bfb43f9a9d899dfd",
   "display_name": "Python 3.5.6 64-bit ('env_zipline': conda)"
  }
 },
 "cells": [
  {
   "cell_type": "code",
   "execution_count": 4,
   "metadata": {},
   "outputs": [
    {
     "name": "stdout",
     "output_type": "stream",
     "text": "The zipline extension is already loaded. To reload it, use:\n  %reload_ext zipline\n"
    }
   ],
   "source": [
    "import zipline\n",
    "# from zipline.examples import buyapple\n",
    "\n",
    "%load_ext zipline"
   ]
  },
  {
   "cell_type": "code",
   "execution_count": 19,
   "metadata": {},
   "outputs": [
    {
     "ename": "NameError",
     "evalue": "name 'get_fundamentals' is not defined",
     "output_type": "error",
     "traceback": [
      "\u001b[0;31m---------------------------------------------------------------------------\u001b[0m",
      "\u001b[0;31mNameError\u001b[0m                                 Traceback (most recent call last)",
      "\u001b[0;32m<ipython-input-19-e9fd2d491ce7>\u001b[0m in \u001b[0;36m<module>\u001b[0;34m()\u001b[0m\n\u001b[0;32m----> 1\u001b[0;31m \u001b[0mget_ipython\u001b[0m\u001b[0;34m(\u001b[0m\u001b[0;34m)\u001b[0m\u001b[0;34m.\u001b[0m\u001b[0mrun_cell_magic\u001b[0m\u001b[0;34m(\u001b[0m\u001b[0;34m'zipline'\u001b[0m\u001b[0;34m,\u001b[0m \u001b[0;34m'--start 2014-1-1 --end 2018-1-1 -o data/dma.pickle --capital-base 1000'\u001b[0m\u001b[0;34m,\u001b[0m \u001b[0;34m'\\n\\nfrom zipline.api import order, order_target, record, symbol, order_value\\nimport matplotlib.pyplot as plt\\nfrom yahoofinancials import YahooFinancials\\n\\n# For this example, we\\'re going to write a simple momentum script.  \\n# When the stock goes up quickly, we\\'re going to buy; \\n# when it goes down we\\'re going to sell.  \\n# Hopefully we\\'ll ride the waves.\\n\\n# To run an algorithm in Quantopian, you need two functions: \\n# initialize and handle_data.\\ndef initialize(context):\\n    # The initialize function sets any data or variables that \\n    # you\\'ll use in your algorithm. \\n    # For instance, you\\'ll want to define the security \\n    # (or securities) you want to backtest.  \\n    # You\\'ll also want to define any parameters or values \\n    # you\\'re going to use later. \\n    # It\\'s only called once at the beginning of your algorithm.\\n    \\n    # In our example, we\\'re looking at Apple.  \\n    # If you re-type this line you\\'ll see \\n    # the auto-complete that is available for security. \\n    context.security = symbol(\\'AAPL\\')\\n\\n    # limit the number of companies returned in a fundamentals query\\n    context.limit = 10\\n\\ndef before_trading_start(context, data):\\n    context.fundamentals = get_fundamentals(\\n        query(\\n            fundamentals.valuation_ratios.pb_ratio,\\n            fundamentals.valuation_ratios.pe_ratio,\\n        )\\n        .filter(\\n            fundamentals.valuation_ratios.pe_ratio < 14\\n        )\\n        .filter(\\n            fundamentals.valuation_ratios.pb_ratio < 2\\n        )\\n        .order_by(\\n            fundamentals.valuation.market_cap.desc()\\n        )\\n        .limit(context.limit)\\n    )\\n    \\n    update_universe(context.fundamentals.columns.values)\\n\\n# The handle_data function is where the real work is done.  \\n# This function is run either every minute \\n# (in live trading and minute backtesting mode) \\n# or every day (in daily backtesting mode).\\ndef handle_data(context, data):\\n    # We\\'ve built a handful of useful data transforms for you to use,\\n    # such as moving average. \\n    \\n    # To make market decisions, we\\'re calculating the stock\\'s \\n    # moving average for the last 5 days and its current price. \\n    average_price = data[context.security].mavg(5)\\n    current_price = data[context.security].price\\n    MA1 = data[context.security].mavg(50)\\n    MA2 = data[context.security].mavg(200)\\n    current_positions = context.portfolio.positions[context.security].amount\\n    \\n    # Another powerful built-in feature of the Quantopian backtester is the\\n    # portfolio object.  The portfolio object tracks your positions, cash,\\n    # cost basis of specific holdings, and more.  In this line, we calculate\\n    # the current amount of cash in our portfolio.   \\n    cash = context.portfolio.cash\\n    print(\"cash before trade %s\" % (cash))\\n\\n    for stock in data:\\n        current_position = context.portfolio.positions[stock].amount\\n        stock_price = data[stock].price\\n        plausible_investment = cash / context.limit\\n     \\n        share_amount = int(plausible_investment / stock_price)\\n\\n        try:\\n                if stock_price < plausible_investment:\\n                    if current_position == 0:\\n                        if context.fundamentals[stock][\\'pe_ratio\\'] < 11:\\n                            order(stock, share_amount)\\n    \\n        except Exception as e:\\n            print(str(e))\\n    \\n    # Here is the meat of our algorithm.\\n    # If the current price is 1% above the 5-day average price \\n    # AND we have enough cash, then we will order.\\n    # If the current price is below the average price, \\n    # then we want to close our position to 0 shares.\\n\\n    # if current_price > 1.01*average_price and cash > current_price:\\n        \\n    #     # Need to calculate how many shares we can buy\\n    #     number_of_shares = int(cash/current_price)\\n        \\n    #     # Place the buy order (positive means buy, negative means sell)\\n    #     order(context.security, +number_of_shares)\\n    #     print(\"Buying %s %s\" % (number_of_shares, context.security.symbol))\\n        \\n\\n    # elif current_price < average_price:\\n        \\n    #     # Sell all of our shares by setting the target position to zero\\n    #     order_target(context.security, 0)\\n    #     print(\"Selling %s\" % (context.security.symbol))\\n    \\n    # You can use the record() method to track any custom signal. \\n    # The record graph tracks up to five different variables. \\n    # Here we record the Apple stock price.\\n    record(stock_price=data[context.security].price)'\u001b[0m\u001b[0;34m)\u001b[0m\u001b[0;34m\u001b[0m\u001b[0m\n\u001b[0m",
      "\u001b[0;32m~/opt/anaconda3/envs/env_zipline/lib/python3.5/site-packages/IPython/core/interactiveshell.py\u001b[0m in \u001b[0;36mrun_cell_magic\u001b[0;34m(self, magic_name, line, cell)\u001b[0m\n\u001b[1;32m   2165\u001b[0m             \u001b[0mmagic_arg_s\u001b[0m \u001b[0;34m=\u001b[0m \u001b[0mself\u001b[0m\u001b[0;34m.\u001b[0m\u001b[0mvar_expand\u001b[0m\u001b[0;34m(\u001b[0m\u001b[0mline\u001b[0m\u001b[0;34m,\u001b[0m \u001b[0mstack_depth\u001b[0m\u001b[0;34m)\u001b[0m\u001b[0;34m\u001b[0m\u001b[0m\n\u001b[1;32m   2166\u001b[0m             \u001b[0;32mwith\u001b[0m \u001b[0mself\u001b[0m\u001b[0;34m.\u001b[0m\u001b[0mbuiltin_trap\u001b[0m\u001b[0;34m:\u001b[0m\u001b[0;34m\u001b[0m\u001b[0m\n\u001b[0;32m-> 2167\u001b[0;31m                 \u001b[0mresult\u001b[0m \u001b[0;34m=\u001b[0m \u001b[0mfn\u001b[0m\u001b[0;34m(\u001b[0m\u001b[0mmagic_arg_s\u001b[0m\u001b[0;34m,\u001b[0m \u001b[0mcell\u001b[0m\u001b[0;34m)\u001b[0m\u001b[0;34m\u001b[0m\u001b[0m\n\u001b[0m\u001b[1;32m   2168\u001b[0m             \u001b[0;32mreturn\u001b[0m \u001b[0mresult\u001b[0m\u001b[0;34m\u001b[0m\u001b[0m\n\u001b[1;32m   2169\u001b[0m \u001b[0;34m\u001b[0m\u001b[0m\n",
      "\u001b[0;32m~/opt/anaconda3/envs/env_zipline/lib/python3.5/site-packages/zipline/__main__.py\u001b[0m in \u001b[0;36mzipline_magic\u001b[0;34m(line, cell)\u001b[0m\n\u001b[1;32m    309\u001b[0m             \u001b[0;34m'%s%%zipline'\u001b[0m \u001b[0;34m%\u001b[0m \u001b[0;34m(\u001b[0m\u001b[0;34m(\u001b[0m\u001b[0mcell\u001b[0m \u001b[0;32mor\u001b[0m \u001b[0;34m''\u001b[0m\u001b[0;34m)\u001b[0m \u001b[0;32mand\u001b[0m \u001b[0;34m'%'\u001b[0m\u001b[0;34m)\u001b[0m\u001b[0;34m,\u001b[0m\u001b[0;34m\u001b[0m\u001b[0m\n\u001b[1;32m    310\u001b[0m             \u001b[0;31m# don't use system exit and propogate errors to the caller\u001b[0m\u001b[0;34m\u001b[0m\u001b[0;34m\u001b[0m\u001b[0m\n\u001b[0;32m--> 311\u001b[0;31m             \u001b[0mstandalone_mode\u001b[0m\u001b[0;34m=\u001b[0m\u001b[0;32mFalse\u001b[0m\u001b[0;34m,\u001b[0m\u001b[0;34m\u001b[0m\u001b[0m\n\u001b[0m\u001b[1;32m    312\u001b[0m         )\n\u001b[1;32m    313\u001b[0m     \u001b[0;32mexcept\u001b[0m \u001b[0mSystemExit\u001b[0m \u001b[0;32mas\u001b[0m \u001b[0me\u001b[0m\u001b[0;34m:\u001b[0m\u001b[0;34m\u001b[0m\u001b[0m\n",
      "\u001b[0;32m~/opt/anaconda3/envs/env_zipline/lib/python3.5/site-packages/click/core.py\u001b[0m in \u001b[0;36mmain\u001b[0;34m(self, args, prog_name, complete_var, standalone_mode, **extra)\u001b[0m\n\u001b[1;32m    715\u001b[0m             \u001b[0;32mtry\u001b[0m\u001b[0;34m:\u001b[0m\u001b[0;34m\u001b[0m\u001b[0m\n\u001b[1;32m    716\u001b[0m                 \u001b[0;32mwith\u001b[0m \u001b[0mself\u001b[0m\u001b[0;34m.\u001b[0m\u001b[0mmake_context\u001b[0m\u001b[0;34m(\u001b[0m\u001b[0mprog_name\u001b[0m\u001b[0;34m,\u001b[0m \u001b[0margs\u001b[0m\u001b[0;34m,\u001b[0m \u001b[0;34m**\u001b[0m\u001b[0mextra\u001b[0m\u001b[0;34m)\u001b[0m \u001b[0;32mas\u001b[0m \u001b[0mctx\u001b[0m\u001b[0;34m:\u001b[0m\u001b[0;34m\u001b[0m\u001b[0m\n\u001b[0;32m--> 717\u001b[0;31m                     \u001b[0mrv\u001b[0m \u001b[0;34m=\u001b[0m \u001b[0mself\u001b[0m\u001b[0;34m.\u001b[0m\u001b[0minvoke\u001b[0m\u001b[0;34m(\u001b[0m\u001b[0mctx\u001b[0m\u001b[0;34m)\u001b[0m\u001b[0;34m\u001b[0m\u001b[0m\n\u001b[0m\u001b[1;32m    718\u001b[0m                     \u001b[0;32mif\u001b[0m \u001b[0;32mnot\u001b[0m \u001b[0mstandalone_mode\u001b[0m\u001b[0;34m:\u001b[0m\u001b[0;34m\u001b[0m\u001b[0m\n\u001b[1;32m    719\u001b[0m                         \u001b[0;32mreturn\u001b[0m \u001b[0mrv\u001b[0m\u001b[0;34m\u001b[0m\u001b[0m\n",
      "\u001b[0;32m~/opt/anaconda3/envs/env_zipline/lib/python3.5/site-packages/click/core.py\u001b[0m in \u001b[0;36minvoke\u001b[0;34m(self, ctx)\u001b[0m\n\u001b[1;32m    954\u001b[0m         \u001b[0m_maybe_show_deprecated_notice\u001b[0m\u001b[0;34m(\u001b[0m\u001b[0mself\u001b[0m\u001b[0;34m)\u001b[0m\u001b[0;34m\u001b[0m\u001b[0m\n\u001b[1;32m    955\u001b[0m         \u001b[0;32mif\u001b[0m \u001b[0mself\u001b[0m\u001b[0;34m.\u001b[0m\u001b[0mcallback\u001b[0m \u001b[0;32mis\u001b[0m \u001b[0;32mnot\u001b[0m \u001b[0;32mNone\u001b[0m\u001b[0;34m:\u001b[0m\u001b[0;34m\u001b[0m\u001b[0m\n\u001b[0;32m--> 956\u001b[0;31m             \u001b[0;32mreturn\u001b[0m \u001b[0mctx\u001b[0m\u001b[0;34m.\u001b[0m\u001b[0minvoke\u001b[0m\u001b[0;34m(\u001b[0m\u001b[0mself\u001b[0m\u001b[0;34m.\u001b[0m\u001b[0mcallback\u001b[0m\u001b[0;34m,\u001b[0m \u001b[0;34m**\u001b[0m\u001b[0mctx\u001b[0m\u001b[0;34m.\u001b[0m\u001b[0mparams\u001b[0m\u001b[0;34m)\u001b[0m\u001b[0;34m\u001b[0m\u001b[0m\n\u001b[0m\u001b[1;32m    957\u001b[0m \u001b[0;34m\u001b[0m\u001b[0m\n\u001b[1;32m    958\u001b[0m \u001b[0;34m\u001b[0m\u001b[0m\n",
      "\u001b[0;32m~/opt/anaconda3/envs/env_zipline/lib/python3.5/site-packages/click/core.py\u001b[0m in \u001b[0;36minvoke\u001b[0;34m(*args, **kwargs)\u001b[0m\n\u001b[1;32m    553\u001b[0m         \u001b[0;32mwith\u001b[0m \u001b[0maugment_usage_errors\u001b[0m\u001b[0;34m(\u001b[0m\u001b[0mself\u001b[0m\u001b[0;34m)\u001b[0m\u001b[0;34m:\u001b[0m\u001b[0;34m\u001b[0m\u001b[0m\n\u001b[1;32m    554\u001b[0m             \u001b[0;32mwith\u001b[0m \u001b[0mctx\u001b[0m\u001b[0;34m:\u001b[0m\u001b[0;34m\u001b[0m\u001b[0m\n\u001b[0;32m--> 555\u001b[0;31m                 \u001b[0;32mreturn\u001b[0m \u001b[0mcallback\u001b[0m\u001b[0;34m(\u001b[0m\u001b[0;34m*\u001b[0m\u001b[0margs\u001b[0m\u001b[0;34m,\u001b[0m \u001b[0;34m**\u001b[0m\u001b[0mkwargs\u001b[0m\u001b[0;34m)\u001b[0m\u001b[0;34m\u001b[0m\u001b[0m\n\u001b[0m\u001b[1;32m    556\u001b[0m \u001b[0;34m\u001b[0m\u001b[0m\n\u001b[1;32m    557\u001b[0m     \u001b[0;32mdef\u001b[0m \u001b[0mforward\u001b[0m\u001b[0;34m(\u001b[0m\u001b[0;34m*\u001b[0m\u001b[0margs\u001b[0m\u001b[0;34m,\u001b[0m \u001b[0;34m**\u001b[0m\u001b[0mkwargs\u001b[0m\u001b[0;34m)\u001b[0m\u001b[0;34m:\u001b[0m\u001b[0;34m\u001b[0m\u001b[0m\n",
      "\u001b[0;32m~/opt/anaconda3/envs/env_zipline/lib/python3.5/site-packages/click/decorators.py\u001b[0m in \u001b[0;36mnew_func\u001b[0;34m(*args, **kwargs)\u001b[0m\n\u001b[1;32m     15\u001b[0m     \"\"\"\n\u001b[1;32m     16\u001b[0m     \u001b[0;32mdef\u001b[0m \u001b[0mnew_func\u001b[0m\u001b[0;34m(\u001b[0m\u001b[0;34m*\u001b[0m\u001b[0margs\u001b[0m\u001b[0;34m,\u001b[0m \u001b[0;34m**\u001b[0m\u001b[0mkwargs\u001b[0m\u001b[0;34m)\u001b[0m\u001b[0;34m:\u001b[0m\u001b[0;34m\u001b[0m\u001b[0m\n\u001b[0;32m---> 17\u001b[0;31m         \u001b[0;32mreturn\u001b[0m \u001b[0mf\u001b[0m\u001b[0;34m(\u001b[0m\u001b[0mget_current_context\u001b[0m\u001b[0;34m(\u001b[0m\u001b[0;34m)\u001b[0m\u001b[0;34m,\u001b[0m \u001b[0;34m*\u001b[0m\u001b[0margs\u001b[0m\u001b[0;34m,\u001b[0m \u001b[0;34m**\u001b[0m\u001b[0mkwargs\u001b[0m\u001b[0;34m)\u001b[0m\u001b[0;34m\u001b[0m\u001b[0m\n\u001b[0m\u001b[1;32m     18\u001b[0m     \u001b[0;32mreturn\u001b[0m \u001b[0mupdate_wrapper\u001b[0m\u001b[0;34m(\u001b[0m\u001b[0mnew_func\u001b[0m\u001b[0;34m,\u001b[0m \u001b[0mf\u001b[0m\u001b[0;34m)\u001b[0m\u001b[0;34m\u001b[0m\u001b[0m\n\u001b[1;32m     19\u001b[0m \u001b[0;34m\u001b[0m\u001b[0m\n",
      "\u001b[0;32m~/opt/anaconda3/envs/env_zipline/lib/python3.5/site-packages/zipline/__main__.py\u001b[0m in \u001b[0;36mrun\u001b[0;34m(ctx, algofile, algotext, define, data_frequency, capital_base, bundle, bundle_timestamp, start, end, output, trading_calendar, print_algo, metrics_set, local_namespace, blotter)\u001b[0m\n\u001b[1;32m    274\u001b[0m         \u001b[0mlocal_namespace\u001b[0m\u001b[0;34m=\u001b[0m\u001b[0mlocal_namespace\u001b[0m\u001b[0;34m,\u001b[0m\u001b[0;34m\u001b[0m\u001b[0m\n\u001b[1;32m    275\u001b[0m         \u001b[0menviron\u001b[0m\u001b[0;34m=\u001b[0m\u001b[0mos\u001b[0m\u001b[0;34m.\u001b[0m\u001b[0menviron\u001b[0m\u001b[0;34m,\u001b[0m\u001b[0;34m\u001b[0m\u001b[0m\n\u001b[0;32m--> 276\u001b[0;31m         \u001b[0mblotter\u001b[0m\u001b[0;34m=\u001b[0m\u001b[0mblotter\u001b[0m\u001b[0;34m,\u001b[0m\u001b[0;34m\u001b[0m\u001b[0m\n\u001b[0m\u001b[1;32m    277\u001b[0m     )\n\u001b[1;32m    278\u001b[0m \u001b[0;34m\u001b[0m\u001b[0m\n",
      "\u001b[0;32m~/opt/anaconda3/envs/env_zipline/lib/python3.5/site-packages/zipline/utils/run_algo.py\u001b[0m in \u001b[0;36m_run\u001b[0;34m(handle_data, initialize, before_trading_start, analyze, algofile, algotext, defines, data_frequency, capital_base, data, bundle, bundle_timestamp, start, end, output, trading_calendar, print_algo, metrics_set, local_namespace, environ, blotter)\u001b[0m\n\u001b[1;32m    227\u001b[0m     \u001b[0;34m)\u001b[0m\u001b[0;34m.\u001b[0m\u001b[0mrun\u001b[0m\u001b[0;34m(\u001b[0m\u001b[0;34m\u001b[0m\u001b[0m\n\u001b[1;32m    228\u001b[0m         \u001b[0mdata\u001b[0m\u001b[0;34m,\u001b[0m\u001b[0;34m\u001b[0m\u001b[0m\n\u001b[0;32m--> 229\u001b[0;31m         \u001b[0moverwrite_sim_params\u001b[0m\u001b[0;34m=\u001b[0m\u001b[0;32mFalse\u001b[0m\u001b[0;34m,\u001b[0m\u001b[0;34m\u001b[0m\u001b[0m\n\u001b[0m\u001b[1;32m    230\u001b[0m     )\n\u001b[1;32m    231\u001b[0m \u001b[0;34m\u001b[0m\u001b[0m\n",
      "\u001b[0;32m~/opt/anaconda3/envs/env_zipline/lib/python3.5/site-packages/zipline/algorithm.py\u001b[0m in \u001b[0;36mrun\u001b[0;34m(self, data, overwrite_sim_params)\u001b[0m\n\u001b[1;32m    754\u001b[0m         \u001b[0;32mtry\u001b[0m\u001b[0;34m:\u001b[0m\u001b[0;34m\u001b[0m\u001b[0m\n\u001b[1;32m    755\u001b[0m             \u001b[0mperfs\u001b[0m \u001b[0;34m=\u001b[0m \u001b[0;34m[\u001b[0m\u001b[0;34m]\u001b[0m\u001b[0;34m\u001b[0m\u001b[0m\n\u001b[0;32m--> 756\u001b[0;31m             \u001b[0;32mfor\u001b[0m \u001b[0mperf\u001b[0m \u001b[0;32min\u001b[0m \u001b[0mself\u001b[0m\u001b[0;34m.\u001b[0m\u001b[0mget_generator\u001b[0m\u001b[0;34m(\u001b[0m\u001b[0;34m)\u001b[0m\u001b[0;34m:\u001b[0m\u001b[0;34m\u001b[0m\u001b[0m\n\u001b[0m\u001b[1;32m    757\u001b[0m                 \u001b[0mperfs\u001b[0m\u001b[0;34m.\u001b[0m\u001b[0mappend\u001b[0m\u001b[0;34m(\u001b[0m\u001b[0mperf\u001b[0m\u001b[0;34m)\u001b[0m\u001b[0;34m\u001b[0m\u001b[0m\n\u001b[1;32m    758\u001b[0m \u001b[0;34m\u001b[0m\u001b[0m\n",
      "\u001b[0;32m~/opt/anaconda3/envs/env_zipline/lib/python3.5/site-packages/zipline/gens/tradesimulation.py\u001b[0m in \u001b[0;36mtransform\u001b[0;34m(self)\u001b[0m\n\u001b[1;32m    222\u001b[0m                     \u001b[0mself\u001b[0m\u001b[0;34m.\u001b[0m\u001b[0msimulation_dt\u001b[0m \u001b[0;34m=\u001b[0m \u001b[0mdt\u001b[0m\u001b[0;34m\u001b[0m\u001b[0m\n\u001b[1;32m    223\u001b[0m                     \u001b[0malgo\u001b[0m\u001b[0;34m.\u001b[0m\u001b[0mon_dt_changed\u001b[0m\u001b[0;34m(\u001b[0m\u001b[0mdt\u001b[0m\u001b[0;34m)\u001b[0m\u001b[0;34m\u001b[0m\u001b[0m\n\u001b[0;32m--> 224\u001b[0;31m                     \u001b[0malgo\u001b[0m\u001b[0;34m.\u001b[0m\u001b[0mbefore_trading_start\u001b[0m\u001b[0;34m(\u001b[0m\u001b[0mself\u001b[0m\u001b[0;34m.\u001b[0m\u001b[0mcurrent_data\u001b[0m\u001b[0;34m)\u001b[0m\u001b[0;34m\u001b[0m\u001b[0m\n\u001b[0m\u001b[1;32m    225\u001b[0m                 \u001b[0;32melif\u001b[0m \u001b[0maction\u001b[0m \u001b[0;34m==\u001b[0m \u001b[0mMINUTE_END\u001b[0m\u001b[0;34m:\u001b[0m\u001b[0;34m\u001b[0m\u001b[0m\n\u001b[1;32m    226\u001b[0m                     minute_msg = self._get_minute_message(\n",
      "\u001b[0;32m~/opt/anaconda3/envs/env_zipline/lib/python3.5/site-packages/zipline/algorithm.py\u001b[0m in \u001b[0;36mbefore_trading_start\u001b[0;34m(self, data)\u001b[0m\n\u001b[1;32m    461\u001b[0m         \u001b[0;32mwith\u001b[0m \u001b[0mhandle_non_market_minutes\u001b[0m\u001b[0;34m(\u001b[0m\u001b[0mdata\u001b[0m\u001b[0;34m)\u001b[0m \u001b[0;32mif\u001b[0m\u001b[0;31m \u001b[0m\u001b[0;31m\\\u001b[0m\u001b[0;34m\u001b[0m\u001b[0m\n\u001b[1;32m    462\u001b[0m                 \u001b[0mself\u001b[0m\u001b[0;34m.\u001b[0m\u001b[0mdata_frequency\u001b[0m \u001b[0;34m==\u001b[0m \u001b[0;34m\"minute\"\u001b[0m \u001b[0;32melse\u001b[0m \u001b[0mExitStack\u001b[0m\u001b[0;34m(\u001b[0m\u001b[0;34m)\u001b[0m\u001b[0;34m:\u001b[0m\u001b[0;34m\u001b[0m\u001b[0m\n\u001b[0;32m--> 463\u001b[0;31m             \u001b[0mself\u001b[0m\u001b[0;34m.\u001b[0m\u001b[0m_before_trading_start\u001b[0m\u001b[0;34m(\u001b[0m\u001b[0mself\u001b[0m\u001b[0;34m,\u001b[0m \u001b[0mdata\u001b[0m\u001b[0;34m)\u001b[0m\u001b[0;34m\u001b[0m\u001b[0m\n\u001b[0m\u001b[1;32m    464\u001b[0m \u001b[0;34m\u001b[0m\u001b[0m\n\u001b[1;32m    465\u001b[0m         \u001b[0mself\u001b[0m\u001b[0;34m.\u001b[0m\u001b[0m_in_before_trading_start\u001b[0m \u001b[0;34m=\u001b[0m \u001b[0;32mFalse\u001b[0m\u001b[0;34m\u001b[0m\u001b[0m\n",
      "\u001b[0;32m<algorithm>\u001b[0m in \u001b[0;36mbefore_trading_start\u001b[0;34m(context, data)\u001b[0m\n",
      "\u001b[0;31mNameError\u001b[0m: name 'get_fundamentals' is not defined"
     ]
    }
   ],
   "source": [
    "%%zipline --start 2014-1-1 --end 2018-1-1 -o data/dma.pickle --capital-base 1000\n",
    "\n",
    "\n",
    "from zipline.api import order, order_target, record, symbol, order_value\n",
    "import matplotlib.pyplot as plt\n",
    "from yahoofinancials import YahooFinancials\n",
    "\n",
    "# For this example, we're going to write a simple momentum script.  \n",
    "# When the stock goes up quickly, we're going to buy; \n",
    "# when it goes down we're going to sell.  \n",
    "# Hopefully we'll ride the waves.\n",
    "\n",
    "# To run an algorithm in Quantopian, you need two functions: \n",
    "# initialize and handle_data.\n",
    "def initialize(context):\n",
    "    # The initialize function sets any data or variables that \n",
    "    # you'll use in your algorithm. \n",
    "    # For instance, you'll want to define the security \n",
    "    # (or securities) you want to backtest.  \n",
    "    # You'll also want to define any parameters or values \n",
    "    # you're going to use later. \n",
    "    # It's only called once at the beginning of your algorithm.\n",
    "    \n",
    "    # In our example, we're looking at Apple.  \n",
    "    # If you re-type this line you'll see \n",
    "    # the auto-complete that is available for security. \n",
    "    context.security = symbol('AAPL')\n",
    "\n",
    "    # limit the number of companies returned in a fundamentals query\n",
    "    context.limit = 10\n",
    "\n",
    "def before_trading_start(context, data):\n",
    "    context.fundamentals = get_fundamentals(\n",
    "        query(\n",
    "            fundamentals.valuation_ratios.pb_ratio,\n",
    "            fundamentals.valuation_ratios.pe_ratio,\n",
    "        )\n",
    "        .filter(\n",
    "            fundamentals.valuation_ratios.pe_ratio < 14\n",
    "        )\n",
    "        .filter(\n",
    "            fundamentals.valuation_ratios.pb_ratio < 2\n",
    "        )\n",
    "        .order_by(\n",
    "            fundamentals.valuation.market_cap.desc()\n",
    "        )\n",
    "        .limit(context.limit)\n",
    "    )\n",
    "    \n",
    "    update_universe(context.fundamentals.columns.values)\n",
    "\n",
    "# The handle_data function is where the real work is done.  \n",
    "# This function is run either every minute \n",
    "# (in live trading and minute backtesting mode) \n",
    "# or every day (in daily backtesting mode).\n",
    "def handle_data(context, data):\n",
    "    # We've built a handful of useful data transforms for you to use,\n",
    "    # such as moving average. \n",
    "    \n",
    "    # To make market decisions, we're calculating the stock's \n",
    "    # moving average for the last 5 days and its current price. \n",
    "    average_price = data[context.security].mavg(5)\n",
    "    current_price = data[context.security].price\n",
    "    MA1 = data[context.security].mavg(50)\n",
    "    MA2 = data[context.security].mavg(200)\n",
    "    current_positions = context.portfolio.positions[context.security].amount\n",
    "    \n",
    "    # Another powerful built-in feature of the Quantopian backtester is the\n",
    "    # portfolio object.  The portfolio object tracks your positions, cash,\n",
    "    # cost basis of specific holdings, and more.  In this line, we calculate\n",
    "    # the current amount of cash in our portfolio.   \n",
    "    cash = context.portfolio.cash\n",
    "    print(\"cash before trade %s\" % (cash))\n",
    "\n",
    "    for stock in data:\n",
    "        current_position = context.portfolio.positions[stock].amount\n",
    "        stock_price = data[stock].price\n",
    "        plausible_investment = cash / context.limit\n",
    "     \n",
    "        share_amount = int(plausible_investment / stock_price)\n",
    "\n",
    "        try:\n",
    "                if stock_price < plausible_investment:\n",
    "                    if current_position == 0:\n",
    "                        if context.fundamentals[stock]['pe_ratio'] < 11:\n",
    "                            order(stock, share_amount)\n",
    "    \n",
    "        except Exception as e:\n",
    "            print(str(e))\n",
    "    \n",
    "    # Here is the meat of our algorithm.\n",
    "    # If the current price is 1% above the 5-day average price \n",
    "    # AND we have enough cash, then we will order.\n",
    "    # If the current price is below the average price, \n",
    "    # then we want to close our position to 0 shares.\n",
    "\n",
    "    # if current_price > 1.01*average_price and cash > current_price:\n",
    "        \n",
    "    #     # Need to calculate how many shares we can buy\n",
    "    #     number_of_shares = int(cash/current_price)\n",
    "        \n",
    "    #     # Place the buy order (positive means buy, negative means sell)\n",
    "    #     order(context.security, +number_of_shares)\n",
    "    #     print(\"Buying %s %s\" % (number_of_shares, context.security.symbol))\n",
    "        \n",
    "\n",
    "    # elif current_price < average_price:\n",
    "        \n",
    "    #     # Sell all of our shares by setting the target position to zero\n",
    "    #     order_target(context.security, 0)\n",
    "    #     print(\"Selling %s\" % (context.security.symbol))\n",
    "    \n",
    "    # You can use the record() method to track any custom signal. \n",
    "    # The record graph tracks up to five different variables. \n",
    "    # Here we record the Apple stock price.\n",
    "    record(stock_price=data[context.security].price)"
   ]
  },
  {
   "cell_type": "code",
   "execution_count": 23,
   "metadata": {},
   "outputs": [
    {
     "data": {
      "text/plain": "{'incomeStatementHistory': {'AAPL': [{'2019-09-28': {'costOfRevenue': 161782000000,\n     'discontinuedOperations': None,\n     'ebit': 63930000000,\n     'effectOfAccountingCharges': None,\n     'extraordinaryItems': None,\n     'grossProfit': 98392000000,\n     'incomeBeforeTax': 65737000000,\n     'incomeTaxExpense': 10481000000,\n     'interestExpense': -3576000000,\n     'minorityInterest': None,\n     'netIncome': 55256000000,\n     'netIncomeApplicableToCommonShares': 55256000000,\n     'netIncomeFromContinuingOps': 55256000000,\n     'nonRecurring': None,\n     'operatingIncome': 63930000000,\n     'otherItems': None,\n     'otherOperatingExpenses': None,\n     'researchDevelopment': 16217000000,\n     'sellingGeneralAdministrative': 18245000000,\n     'totalOperatingExpenses': 196244000000,\n     'totalOtherIncomeExpenseNet': 1807000000,\n     'totalRevenue': 260174000000}},\n   {'2018-09-29': {'costOfRevenue': 163756000000,\n     'discontinuedOperations': None,\n     'ebit': 70898000000,\n     'effectOfAccountingCharges': None,\n     'extraordinaryItems': None,\n     'grossProfit': 101839000000,\n     'incomeBeforeTax': 72903000000,\n     'incomeTaxExpense': 13372000000,\n     'interestExpense': -3240000000,\n     'minorityInterest': None,\n     'netIncome': 59531000000,\n     'netIncomeApplicableToCommonShares': 59531000000,\n     'netIncomeFromContinuingOps': 59531000000,\n     'nonRecurring': None,\n     'operatingIncome': 70898000000,\n     'otherItems': None,\n     'otherOperatingExpenses': None,\n     'researchDevelopment': 14236000000,\n     'sellingGeneralAdministrative': 16705000000,\n     'totalOperatingExpenses': 194697000000,\n     'totalOtherIncomeExpenseNet': 2005000000,\n     'totalRevenue': 265595000000}},\n   {'2017-09-30': {'costOfRevenue': 141048000000,\n     'discontinuedOperations': None,\n     'ebit': 61344000000,\n     'effectOfAccountingCharges': None,\n     'extraordinaryItems': None,\n     'grossProfit': 88186000000,\n     'incomeBeforeTax': 64089000000,\n     'incomeTaxExpense': 15738000000,\n     'interestExpense': -2323000000,\n     'minorityInterest': None,\n     'netIncome': 48351000000,\n     'netIncomeApplicableToCommonShares': 48351000000,\n     'netIncomeFromContinuingOps': 48351000000,\n     'nonRecurring': None,\n     'operatingIncome': 61344000000,\n     'otherItems': None,\n     'otherOperatingExpenses': None,\n     'researchDevelopment': 11581000000,\n     'sellingGeneralAdministrative': 15261000000,\n     'totalOperatingExpenses': 167890000000,\n     'totalOtherIncomeExpenseNet': 2745000000,\n     'totalRevenue': 229234000000}},\n   {'2016-09-24': {'costOfRevenue': 131376000000,\n     'discontinuedOperations': None,\n     'ebit': 60024000000,\n     'effectOfAccountingCharges': None,\n     'extraordinaryItems': None,\n     'grossProfit': 84263000000,\n     'incomeBeforeTax': 61372000000,\n     'incomeTaxExpense': 15685000000,\n     'interestExpense': -1456000000,\n     'minorityInterest': None,\n     'netIncome': 45687000000,\n     'netIncomeApplicableToCommonShares': 45687000000,\n     'netIncomeFromContinuingOps': 45687000000,\n     'nonRecurring': None,\n     'operatingIncome': 60024000000,\n     'otherItems': None,\n     'otherOperatingExpenses': None,\n     'researchDevelopment': 10045000000,\n     'sellingGeneralAdministrative': 14194000000,\n     'totalOperatingExpenses': 155615000000,\n     'totalOtherIncomeExpenseNet': 1348000000,\n     'totalRevenue': 215639000000}}]}}"
     },
     "execution_count": 23,
     "metadata": {},
     "output_type": "execute_result"
    }
   ],
   "source": [
    "from yahoofinancials import YahooFinancials as YF\n",
    "\n",
    "tick = YF('AAPL')\n",
    "\n",
    "tick.get_financial_stmts('annual', 'income', True)"
   ]
  },
  {
   "cell_type": "code",
   "execution_count": 34,
   "metadata": {},
   "outputs": [],
   "source": [
    "from iexfinance.refdata import get_symbols\n",
    "from iexfinance.stocks import Stock\n",
    "import pandas as pd\n",
    "\n",
    "symbols=get_symbols(output_format='pandas', token=\"pk_1dd03915b1bd48c8aa96fa6340d2bab1\")"
   ]
  },
  {
   "cell_type": "code",
   "execution_count": 106,
   "metadata": {},
   "outputs": [],
   "source": [
    "symbols['type']='cs'\n",
    "symbols_only=symbols[['symbol']]\n",
    "\n",
    "stockList = symbols_only.head(20).values.flatten().tolist()\n",
    "\n",
    "batch = Stock(stockList, token=\"pk_1dd03915b1bd48c8aa96fa6340d2bab1\")\n",
    "shares = pd.DataFrame(batch.get_quote()).transpose()"
   ]
  },
  {
   "cell_type": "code",
   "execution_count": 107,
   "metadata": {},
   "outputs": [
    {
     "data": {
      "text/html": "<div>\n<style scoped>\n    .dataframe tbody tr th:only-of-type {\n        vertical-align: middle;\n    }\n\n    .dataframe tbody tr th {\n        vertical-align: top;\n    }\n\n    .dataframe thead th {\n        text-align: right;\n    }\n</style>\n<table border=\"1\" class=\"dataframe\">\n  <thead>\n    <tr style=\"text-align: right;\">\n      <th></th>\n      <th>avgTotalVolume</th>\n      <th>calculationPrice</th>\n      <th>change</th>\n      <th>changePercent</th>\n      <th>close</th>\n      <th>closeTime</th>\n      <th>companyName</th>\n      <th>delayedPrice</th>\n      <th>delayedPriceTime</th>\n      <th>extendedChange</th>\n      <th>...</th>\n      <th>openTime</th>\n      <th>peRatio</th>\n      <th>previousClose</th>\n      <th>previousVolume</th>\n      <th>primaryExchange</th>\n      <th>symbol</th>\n      <th>volume</th>\n      <th>week52High</th>\n      <th>week52Low</th>\n      <th>ytdChange</th>\n    </tr>\n  </thead>\n  <tbody>\n    <tr>\n      <th>A</th>\n      <td>2066775</td>\n      <td>close</td>\n      <td>-2.55</td>\n      <td>-0.03168</td>\n      <td>None</td>\n      <td>None</td>\n      <td>Agilent Technologies, Inc.</td>\n      <td>None</td>\n      <td>None</td>\n      <td>None</td>\n      <td>...</td>\n      <td>None</td>\n      <td>31.82</td>\n      <td>80.5</td>\n      <td>2919380</td>\n      <td>New York Stock Exchange</td>\n      <td>A</td>\n      <td>None</td>\n      <td>90.64</td>\n      <td>65.35</td>\n      <td>-0.12418</td>\n    </tr>\n    <tr>\n      <th>AA</th>\n      <td>7053071</td>\n      <td>close</td>\n      <td>-0.86</td>\n      <td>-0.05599</td>\n      <td>None</td>\n      <td>None</td>\n      <td>Alcoa Corp.</td>\n      <td>None</td>\n      <td>None</td>\n      <td>None</td>\n      <td>...</td>\n      <td>None</td>\n      <td>-2.39</td>\n      <td>15.36</td>\n      <td>5465689</td>\n      <td>New York Stock Exchange</td>\n      <td>AA</td>\n      <td>None</td>\n      <td>31.45</td>\n      <td>13.62</td>\n      <td>-0.39269</td>\n    </tr>\n    <tr>\n      <th>AAAU</th>\n      <td>85983</td>\n      <td>close</td>\n      <td>-0.31</td>\n      <td>-0.01872</td>\n      <td>None</td>\n      <td>None</td>\n      <td>Perth Mint Physical Gold ETF</td>\n      <td>None</td>\n      <td>None</td>\n      <td>None</td>\n      <td>...</td>\n      <td>None</td>\n      <td>None</td>\n      <td>16.56</td>\n      <td>306580</td>\n      <td>NYSE Arca</td>\n      <td>AAAU</td>\n      <td>None</td>\n      <td>16.8</td>\n      <td>12.66</td>\n      <td>0.04758</td>\n    </tr>\n    <tr>\n      <th>AACG</th>\n      <td>24918</td>\n      <td>close</td>\n      <td>0.09</td>\n      <td>0.08571</td>\n      <td>None</td>\n      <td>None</td>\n      <td>ATA Creativity Global</td>\n      <td>None</td>\n      <td>None</td>\n      <td>None</td>\n      <td>...</td>\n      <td>None</td>\n      <td>-2.51</td>\n      <td>1.05</td>\n      <td>36145</td>\n      <td>NASDAQ</td>\n      <td>AACG</td>\n      <td>None</td>\n      <td>4.5</td>\n      <td>0.955</td>\n      <td>-0.06989</td>\n    </tr>\n    <tr>\n      <th>AADR</th>\n      <td>12643</td>\n      <td>close</td>\n      <td>-1.61</td>\n      <td>-0.02953</td>\n      <td>None</td>\n      <td>None</td>\n      <td>WCM/BNY Mellon Focused Growth ADR ETF</td>\n      <td>None</td>\n      <td>None</td>\n      <td>None</td>\n      <td>...</td>\n      <td>None</td>\n      <td>None</td>\n      <td>54.53</td>\n      <td>8123</td>\n      <td>NYSE Arca</td>\n      <td>AADR</td>\n      <td>None</td>\n      <td>57.51</td>\n      <td>44.09</td>\n      <td>-0.05963</td>\n    </tr>\n    <tr>\n      <th>AAL</th>\n      <td>11428544</td>\n      <td>close</td>\n      <td>-2.33</td>\n      <td>-0.09155</td>\n      <td>None</td>\n      <td>None</td>\n      <td>American Airlines Group, Inc.</td>\n      <td>None</td>\n      <td>None</td>\n      <td>None</td>\n      <td>...</td>\n      <td>None</td>\n      <td>6.06</td>\n      <td>25.45</td>\n      <td>21713199</td>\n      <td>NASDAQ</td>\n      <td>AAL</td>\n      <td>None</td>\n      <td>36.73</td>\n      <td>23.05</td>\n      <td>-0.29375</td>\n    </tr>\n    <tr>\n      <th>AAMC</th>\n      <td>9689</td>\n      <td>close</td>\n      <td>2.59</td>\n      <td>0.09965</td>\n      <td>None</td>\n      <td>None</td>\n      <td>Altisource Asset Management Corp.</td>\n      <td>None</td>\n      <td>None</td>\n      <td>None</td>\n      <td>...</td>\n      <td>None</td>\n      <td>-8.26</td>\n      <td>25.99</td>\n      <td>35739</td>\n      <td>NYSE American</td>\n      <td>AAMC</td>\n      <td>None</td>\n      <td>41.85</td>\n      <td>7.6</td>\n      <td>1.42135</td>\n    </tr>\n    <tr>\n      <th>AAME</th>\n      <td>2641</td>\n      <td>close</td>\n      <td>-0.13</td>\n      <td>-0.05138</td>\n      <td>None</td>\n      <td>None</td>\n      <td>Atlantic American Corp.</td>\n      <td>None</td>\n      <td>None</td>\n      <td>None</td>\n      <td>...</td>\n      <td>None</td>\n      <td>-26.14</td>\n      <td>2.53</td>\n      <td>698</td>\n      <td>NASDAQ</td>\n      <td>AAME</td>\n      <td>None</td>\n      <td>2.95</td>\n      <td>1.46</td>\n      <td>0.15462</td>\n    </tr>\n    <tr>\n      <th>AAN</th>\n      <td>984357</td>\n      <td>close</td>\n      <td>-0.58</td>\n      <td>-0.0134</td>\n      <td>None</td>\n      <td>None</td>\n      <td>Aaron's, Inc.</td>\n      <td>None</td>\n      <td>None</td>\n      <td>None</td>\n      <td>...</td>\n      <td>None</td>\n      <td>94.07</td>\n      <td>43.28</td>\n      <td>2157153</td>\n      <td>New York Stock Exchange</td>\n      <td>AAN</td>\n      <td>None</td>\n      <td>78.65</td>\n      <td>40.79</td>\n      <td>-0.2696</td>\n    </tr>\n    <tr>\n      <th>AAOI</th>\n      <td>930519</td>\n      <td>close</td>\n      <td>-0.39</td>\n      <td>-0.03683</td>\n      <td>None</td>\n      <td>None</td>\n      <td>Applied Optoelectronics, Inc.</td>\n      <td>None</td>\n      <td>None</td>\n      <td>None</td>\n      <td>...</td>\n      <td>None</td>\n      <td>-5.18</td>\n      <td>10.59</td>\n      <td>725646</td>\n      <td>NASDAQ</td>\n      <td>AAOI</td>\n      <td>None</td>\n      <td>17.05</td>\n      <td>8.34</td>\n      <td>-0.19593</td>\n    </tr>\n    <tr>\n      <th>AAON</th>\n      <td>120623</td>\n      <td>close</td>\n      <td>-0.74</td>\n      <td>-0.01376</td>\n      <td>None</td>\n      <td>None</td>\n      <td>AAON, Inc.</td>\n      <td>None</td>\n      <td>None</td>\n      <td>None</td>\n      <td>...</td>\n      <td>None</td>\n      <td>54.98</td>\n      <td>53.76</td>\n      <td>143976</td>\n      <td>NASDAQ</td>\n      <td>AAON</td>\n      <td>None</td>\n      <td>57.55</td>\n      <td>39.5</td>\n      <td>0.05024</td>\n    </tr>\n    <tr>\n      <th>AAP</th>\n      <td>1055506</td>\n      <td>close</td>\n      <td>-2.31</td>\n      <td>-0.01651</td>\n      <td>None</td>\n      <td>None</td>\n      <td>Advance Auto Parts, Inc.</td>\n      <td>None</td>\n      <td>None</td>\n      <td>None</td>\n      <td>...</td>\n      <td>None</td>\n      <td>20.04</td>\n      <td>139.91</td>\n      <td>1199473</td>\n      <td>New York Stock Exchange</td>\n      <td>AAP</td>\n      <td>None</td>\n      <td>182.56</td>\n      <td>129.94</td>\n      <td>-0.15901</td>\n    </tr>\n    <tr>\n      <th>AAPL</th>\n      <td>33052161</td>\n      <td>close</td>\n      <td>-10.1</td>\n      <td>-0.03387</td>\n      <td>None</td>\n      <td>None</td>\n      <td>Apple, Inc.</td>\n      <td>None</td>\n      <td>None</td>\n      <td>None</td>\n      <td>...</td>\n      <td>None</td>\n      <td>22.59</td>\n      <td>298.18</td>\n      <td>55548828</td>\n      <td>NASDAQ</td>\n      <td>AAPL</td>\n      <td>None</td>\n      <td>327.85</td>\n      <td>169.5</td>\n      <td>-0.06137</td>\n    </tr>\n    <tr>\n      <th>AAT</th>\n      <td>320490</td>\n      <td>close</td>\n      <td>-1.22</td>\n      <td>-0.02694</td>\n      <td>None</td>\n      <td>None</td>\n      <td>American Assets Trust, Inc.</td>\n      <td>None</td>\n      <td>None</td>\n      <td>None</td>\n      <td>...</td>\n      <td>None</td>\n      <td>52.11</td>\n      <td>45.28</td>\n      <td>249311</td>\n      <td>New York Stock Exchange</td>\n      <td>AAT</td>\n      <td>None</td>\n      <td>49.26</td>\n      <td>42.94</td>\n      <td>-0.07224</td>\n    </tr>\n    <tr>\n      <th>AAU</th>\n      <td>316303</td>\n      <td>close</td>\n      <td>0.0015</td>\n      <td>0.0035</td>\n      <td>None</td>\n      <td>None</td>\n      <td>Almaden Minerals Ltd.</td>\n      <td>None</td>\n      <td>None</td>\n      <td>None</td>\n      <td>...</td>\n      <td>None</td>\n      <td>-18.37</td>\n      <td>0.4283</td>\n      <td>579338</td>\n      <td>NYSE American</td>\n      <td>AAU</td>\n      <td>None</td>\n      <td>0.82</td>\n      <td>0.4</td>\n      <td>-0.278</td>\n    </tr>\n    <tr>\n      <th>AAWW</th>\n      <td>520162</td>\n      <td>close</td>\n      <td>-2.42</td>\n      <td>-0.08438</td>\n      <td>None</td>\n      <td>None</td>\n      <td>Atlas Air Worldwide Holdings, Inc.</td>\n      <td>None</td>\n      <td>None</td>\n      <td>None</td>\n      <td>...</td>\n      <td>None</td>\n      <td>-2.32</td>\n      <td>28.68</td>\n      <td>931556</td>\n      <td>NASDAQ</td>\n      <td>AAWW</td>\n      <td>None</td>\n      <td>57.22</td>\n      <td>20.61</td>\n      <td>-0.14218</td>\n    </tr>\n    <tr>\n      <th>AAXJ</th>\n      <td>1333025</td>\n      <td>close</td>\n      <td>-0.2</td>\n      <td>-0.0029</td>\n      <td>None</td>\n      <td>None</td>\n      <td>iShares MSCI All Country Asia ex Japan ETF</td>\n      <td>None</td>\n      <td>None</td>\n      <td>None</td>\n      <td>...</td>\n      <td>None</td>\n      <td>None</td>\n      <td>68.98</td>\n      <td>1900616</td>\n      <td>NASDAQ</td>\n      <td>AAXJ</td>\n      <td>None</td>\n      <td>76.44</td>\n      <td>62.7</td>\n      <td>-0.0772</td>\n    </tr>\n    <tr>\n      <th>AAXN</th>\n      <td>642404</td>\n      <td>close</td>\n      <td>-2.9</td>\n      <td>-0.03519</td>\n      <td>None</td>\n      <td>None</td>\n      <td>Axon Enterprise, Inc.</td>\n      <td>None</td>\n      <td>None</td>\n      <td>None</td>\n      <td>...</td>\n      <td>None</td>\n      <td>305.81</td>\n      <td>82.41</td>\n      <td>945357</td>\n      <td>NASDAQ</td>\n      <td>AAXN</td>\n      <td>None</td>\n      <td>90.1</td>\n      <td>46.28</td>\n      <td>0.03901</td>\n    </tr>\n    <tr>\n      <th>AB</th>\n      <td>371654</td>\n      <td>close</td>\n      <td>-0.67</td>\n      <td>-0.02029</td>\n      <td>None</td>\n      <td>None</td>\n      <td>AllianceBernstein Holding LP</td>\n      <td>None</td>\n      <td>None</td>\n      <td>None</td>\n      <td>...</td>\n      <td>None</td>\n      <td>13</td>\n      <td>33.02</td>\n      <td>625014</td>\n      <td>New York Stock Exchange</td>\n      <td>AB</td>\n      <td>None</td>\n      <td>36.06</td>\n      <td>26.29</td>\n      <td>0.04911</td>\n    </tr>\n    <tr>\n      <th>ABB</th>\n      <td>1916777</td>\n      <td>close</td>\n      <td>-0.48</td>\n      <td>-0.02105</td>\n      <td>None</td>\n      <td>None</td>\n      <td>ABB Ltd.</td>\n      <td>None</td>\n      <td>None</td>\n      <td>None</td>\n      <td>...</td>\n      <td>None</td>\n      <td>33.08</td>\n      <td>22.8</td>\n      <td>2321520</td>\n      <td>New York Stock Exchange</td>\n      <td>ABB</td>\n      <td>None</td>\n      <td>25.3</td>\n      <td>17.71</td>\n      <td>-0.10325</td>\n    </tr>\n  </tbody>\n</table>\n<p>20 rows × 45 columns</p>\n</div>",
      "text/plain": "     avgTotalVolume calculationPrice  change changePercent close closeTime  \\\nA           2066775            close   -2.55      -0.03168  None      None   \nAA          7053071            close   -0.86      -0.05599  None      None   \nAAAU          85983            close   -0.31      -0.01872  None      None   \nAACG          24918            close    0.09       0.08571  None      None   \nAADR          12643            close   -1.61      -0.02953  None      None   \nAAL        11428544            close   -2.33      -0.09155  None      None   \nAAMC           9689            close    2.59       0.09965  None      None   \nAAME           2641            close   -0.13      -0.05138  None      None   \nAAN          984357            close   -0.58       -0.0134  None      None   \nAAOI         930519            close   -0.39      -0.03683  None      None   \nAAON         120623            close   -0.74      -0.01376  None      None   \nAAP         1055506            close   -2.31      -0.01651  None      None   \nAAPL       33052161            close   -10.1      -0.03387  None      None   \nAAT          320490            close   -1.22      -0.02694  None      None   \nAAU          316303            close  0.0015        0.0035  None      None   \nAAWW         520162            close   -2.42      -0.08438  None      None   \nAAXJ        1333025            close    -0.2       -0.0029  None      None   \nAAXN         642404            close    -2.9      -0.03519  None      None   \nAB           371654            close   -0.67      -0.02029  None      None   \nABB         1916777            close   -0.48      -0.02105  None      None   \n\n                                     companyName delayedPrice  \\\nA                     Agilent Technologies, Inc.         None   \nAA                                   Alcoa Corp.         None   \nAAAU                Perth Mint Physical Gold ETF         None   \nAACG                       ATA Creativity Global         None   \nAADR       WCM/BNY Mellon Focused Growth ADR ETF         None   \nAAL                American Airlines Group, Inc.         None   \nAAMC           Altisource Asset Management Corp.         None   \nAAME                     Atlantic American Corp.         None   \nAAN                                Aaron's, Inc.         None   \nAAOI               Applied Optoelectronics, Inc.         None   \nAAON                                  AAON, Inc.         None   \nAAP                     Advance Auto Parts, Inc.         None   \nAAPL                                 Apple, Inc.         None   \nAAT                  American Assets Trust, Inc.         None   \nAAU                        Almaden Minerals Ltd.         None   \nAAWW          Atlas Air Worldwide Holdings, Inc.         None   \nAAXJ  iShares MSCI All Country Asia ex Japan ETF         None   \nAAXN                       Axon Enterprise, Inc.         None   \nAB                  AllianceBernstein Holding LP         None   \nABB                                     ABB Ltd.         None   \n\n     delayedPriceTime extendedChange    ...    openTime peRatio previousClose  \\\nA                None           None    ...        None   31.82          80.5   \nAA               None           None    ...        None   -2.39         15.36   \nAAAU             None           None    ...        None    None         16.56   \nAACG             None           None    ...        None   -2.51          1.05   \nAADR             None           None    ...        None    None         54.53   \nAAL              None           None    ...        None    6.06         25.45   \nAAMC             None           None    ...        None   -8.26         25.99   \nAAME             None           None    ...        None  -26.14          2.53   \nAAN              None           None    ...        None   94.07         43.28   \nAAOI             None           None    ...        None   -5.18         10.59   \nAAON             None           None    ...        None   54.98         53.76   \nAAP              None           None    ...        None   20.04        139.91   \nAAPL             None           None    ...        None   22.59        298.18   \nAAT              None           None    ...        None   52.11         45.28   \nAAU              None           None    ...        None  -18.37        0.4283   \nAAWW             None           None    ...        None   -2.32         28.68   \nAAXJ             None           None    ...        None    None         68.98   \nAAXN             None           None    ...        None  305.81         82.41   \nAB               None           None    ...        None      13         33.02   \nABB              None           None    ...        None   33.08          22.8   \n\n     previousVolume          primaryExchange symbol volume week52High  \\\nA           2919380  New York Stock Exchange      A   None      90.64   \nAA          5465689  New York Stock Exchange     AA   None      31.45   \nAAAU         306580                NYSE Arca   AAAU   None       16.8   \nAACG          36145                   NASDAQ   AACG   None        4.5   \nAADR           8123                NYSE Arca   AADR   None      57.51   \nAAL        21713199                   NASDAQ    AAL   None      36.73   \nAAMC          35739            NYSE American   AAMC   None      41.85   \nAAME            698                   NASDAQ   AAME   None       2.95   \nAAN         2157153  New York Stock Exchange    AAN   None      78.65   \nAAOI         725646                   NASDAQ   AAOI   None      17.05   \nAAON         143976                   NASDAQ   AAON   None      57.55   \nAAP         1199473  New York Stock Exchange    AAP   None     182.56   \nAAPL       55548828                   NASDAQ   AAPL   None     327.85   \nAAT          249311  New York Stock Exchange    AAT   None      49.26   \nAAU          579338            NYSE American    AAU   None       0.82   \nAAWW         931556                   NASDAQ   AAWW   None      57.22   \nAAXJ        1900616                   NASDAQ   AAXJ   None      76.44   \nAAXN         945357                   NASDAQ   AAXN   None       90.1   \nAB           625014  New York Stock Exchange     AB   None      36.06   \nABB         2321520  New York Stock Exchange    ABB   None       25.3   \n\n     week52Low ytdChange  \nA        65.35  -0.12418  \nAA       13.62  -0.39269  \nAAAU     12.66   0.04758  \nAACG     0.955  -0.06989  \nAADR     44.09  -0.05963  \nAAL      23.05  -0.29375  \nAAMC       7.6   1.42135  \nAAME      1.46   0.15462  \nAAN      40.79   -0.2696  \nAAOI      8.34  -0.19593  \nAAON      39.5   0.05024  \nAAP     129.94  -0.15901  \nAAPL     169.5  -0.06137  \nAAT      42.94  -0.07224  \nAAU        0.4    -0.278  \nAAWW     20.61  -0.14218  \nAAXJ      62.7   -0.0772  \nAAXN     46.28   0.03901  \nAB       26.29   0.04911  \nABB      17.71  -0.10325  \n\n[20 rows x 45 columns]"
     },
     "execution_count": 107,
     "metadata": {},
     "output_type": "execute_result"
    }
   ],
   "source": [
    "\n",
    "\n",
    "\n",
    "\n"
   ]
  },
  {
   "cell_type": "code",
   "execution_count": 99,
   "metadata": {},
   "outputs": [
    {
     "data": {
      "text/plain": "{'A': {'avgTotalVolume': 2066775,\n  'calculationPrice': 'close',\n  'change': -2.55,\n  'changePercent': -0.03168,\n  'close': None,\n  'closeTime': None,\n  'companyName': 'Agilent Technologies, Inc.',\n  'delayedPrice': None,\n  'delayedPriceTime': None,\n  'extendedChange': None,\n  'extendedChangePercent': None,\n  'extendedPrice': None,\n  'extendedPriceTime': None,\n  'high': None,\n  'iexAskPrice': 0,\n  'iexAskSize': 0,\n  'iexBidPrice': 0,\n  'iexBidSize': 0,\n  'iexLastUpdated': 1582664398007,\n  'iexMarketPercent': 0.0381308905517068,\n  'iexRealtimePrice': 77.94,\n  'iexRealtimeSize': 100,\n  'iexVolume': 105546,\n  'isUSMarketOpen': False,\n  'lastTradeTime': 1582664399226,\n  'latestPrice': 77.95,\n  'latestSource': 'Close',\n  'latestTime': 'February 25, 2020',\n  'latestUpdate': 1582664637134,\n  'latestVolume': None,\n  'low': None,\n  'marketCap': 24224365600,\n  'oddLotDelayedPrice': None,\n  'oddLotDelayedPriceTime': None,\n  'open': None,\n  'openTime': None,\n  'peRatio': 31.82,\n  'previousClose': 80.5,\n  'previousVolume': 2919380,\n  'primaryExchange': 'New York Stock Exchange',\n  'symbol': 'A',\n  'volume': None,\n  'week52High': 90.64,\n  'week52Low': 65.35,\n  'ytdChange': -0.12418},\n 'AA': {'avgTotalVolume': 7053071,\n  'calculationPrice': 'close',\n  'change': -0.86,\n  'changePercent': -0.05599,\n  'close': None,\n  'closeTime': None,\n  'companyName': 'Alcoa Corp.',\n  'delayedPrice': None,\n  'delayedPriceTime': None,\n  'extendedChange': None,\n  'extendedChangePercent': None,\n  'extendedPrice': None,\n  'extendedPriceTime': None,\n  'high': None,\n  'iexAskPrice': 0,\n  'iexAskSize': 0,\n  'iexBidPrice': 0,\n  'iexBidSize': 0,\n  'iexLastUpdated': 1582664394827,\n  'iexMarketPercent': 0.019051105429790556,\n  'iexRealtimePrice': 14.5,\n  'iexRealtimeSize': 200,\n  'iexVolume': 119541,\n  'isUSMarketOpen': False,\n  'lastTradeTime': 1582664399962,\n  'latestPrice': 14.5,\n  'latestSource': 'Close',\n  'latestTime': 'February 25, 2020',\n  'latestUpdate': 1582664507487,\n  'latestVolume': None,\n  'low': None,\n  'marketCap': 2690808500,\n  'oddLotDelayedPrice': None,\n  'oddLotDelayedPriceTime': None,\n  'open': None,\n  'openTime': None,\n  'peRatio': -2.39,\n  'previousClose': 15.36,\n  'previousVolume': 5465689,\n  'primaryExchange': 'New York Stock Exchange',\n  'symbol': 'AA',\n  'volume': None,\n  'week52High': 31.45,\n  'week52Low': 13.62,\n  'ytdChange': -0.39269}}"
     },
     "execution_count": 99,
     "metadata": {},
     "output_type": "execute_result"
    }
   ],
   "source": [
    "shares"
   ]
  },
  {
   "cell_type": "code",
   "execution_count": null,
   "metadata": {},
   "outputs": [],
   "source": []
  },
  {
   "cell_type": "code",
   "execution_count": null,
   "metadata": {},
   "outputs": [],
   "source": []
  }
 ]
}