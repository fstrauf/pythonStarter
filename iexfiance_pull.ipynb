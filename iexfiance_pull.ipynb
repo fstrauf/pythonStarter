{
 "nbformat": 4,
 "nbformat_minor": 2,
 "metadata": {
  "language_info": {
   "name": "python",
   "codemirror_mode": {
    "name": "ipython",
    "version": 3
   },
   "version": "3.7.4-final"
  },
  "orig_nbformat": 2,
  "file_extension": ".py",
  "mimetype": "text/x-python",
  "name": "python",
  "npconvert_exporter": "python",
  "pygments_lexer": "ipython3",
  "version": 3,
  "kernelspec": {
   "name": "python35664bitenvziplinecondad50ec081b67c4e81bfb43f9a9d899dfd",
   "display_name": "Python 3.5.6 64-bit ('env_zipline': conda)"
  }
 },
 "cells": [
  {
   "cell_type": "code",
   "execution_count": 55,
   "metadata": {},
   "outputs": [],
   "source": [
    "from iexfinance.refdata import get_symbols\n",
    "from iexfinance.stocks import Stock, get_collections\n",
    "import pandas as pd\n",
    "\n",
    "# symbols=get_symbols(output_format='pandas', token=\"pk_1dd03915b1bd48c8aa96fa6340d2bab1\")"
   ]
  },
  {
   "cell_type": "code",
   "execution_count": 328,
   "metadata": {},
   "outputs": [],
   "source": [
    "symbols['type']='cs'\n",
    "symbols_only=symbols[['symbol']]\n",
    "\n",
    "stockList = symbols_only.head(200).values.flatten().tolist()"
   ]
  },
  {
   "cell_type": "code",
   "execution_count": 294,
   "metadata": {},
   "outputs": [
    {
     "data": {
      "text/plain": "10"
     },
     "execution_count": 294,
     "metadata": {},
     "output_type": "execute_result"
    }
   ],
   "source": [
    "shares['peRatio']\n",
    "shares['sharesOutstanding']\n",
    "shares.columns\n",
    "len(stockList)"
   ]
  },
  {
   "cell_type": "code",
   "execution_count": 335,
   "metadata": {},
   "outputs": [],
   "source": [
    "def batchCallApi(symbols, types, filt):\n",
    "    token='pk_1dd03915b1bd48c8aa96fa6340d2bab1'\n",
    "    baseUrl = 'https://cloud.iexapis.com/stable/stock/market/batch?'\n",
    "    route = 'symbols={}&types={}&token={}&filter={}'.format(','.join(symbols), types, token, filt)\n",
    "    print(baseUrl+route)\n",
    "    # resp = requests.get(baseUrl+route)\n",
    "    # if resp.status_code == 200:\n",
    "    #     return resp.json()\n",
    "    # print('Response %d - ' % resp.status_code, resp.text)"
   ]
  },
  {
   "cell_type": "code",
   "execution_count": 322,
   "metadata": {},
   "outputs": [],
   "source": [
    "# out=batchCallApi(stockList,'pk_1dd03915b1bd48c8aa96fa6340d2bab1','stats,book','peRatio, sharesOutstanding')"
   ]
  },
  {
   "cell_type": "code",
   "execution_count": 336,
   "metadata": {},
   "outputs": [
    {
     "name": "stdout",
     "output_type": "stream",
     "text": "https://cloud.iexapis.com/stable/stock/market/batch?symbols=A,AA,AAAU,AACG,AADR,AAL,AAMC,AAME,AAN,AAOI,AAON,AAP,AAPL,AAT,AAU,AAWW,AAXJ,AAXN,AB,ABB,ABBV,ABC,ABCB,ABEO,ABEQ,ABEV,ABG,ABIO,ABM,ABMD,ABR,ABR-A,ABR-B,ABR-C,ABT,ABTX,ABUS,AC,ACA,ACAD,ACAM,ACAMU,ACAMW,ACB,ACBI,ACC,ACCO,ACEL,ACEL+,ACER,ACES,ACGL,ACGLO,ACGLP,ACH,ACHC,ACHV,ACIA,ACIO,ACIU,ACIW,ACLS,ACM,ACMR,ACN,ACNB,ACOR,ACP,ACRE,ACRS,ACRX,ACSG,ACSI,ACST,ACT,ACTG,ACTT,ACTTU,ACTTW,ACU,ACV,ACWF,ACWI,ACWV,ACWX,ACY,ADAP,ADBE,ADC,ADES,ADI,ADIL,ADILW,ADM,ADMA,ADME,ADMP,ADMS,ADNT&types=stats, book&token=pk_1dd03915b1bd48c8aa96fa6340d2bab1&filter=peRatio, sharesOutstanding\nhttps://cloud.iexapis.com/stable/stock/market/batch?symbols=ADP,ADPT,ADRE,ADRO,ADS,ADSK,ADSW,ADT,ADTN,ADUS,ADVM,ADX,ADXN,ADXS,AE,AEB,AEE,AEF,AEFC,AEG,AEGN,AEHR,AEIS,AEL,AEL-A,AEM,AEMD,AEO,AEP,AEP-B,AER,AERI,AES,AESE,AESR,AEY,AEYE,AEZS,AFB,AFC,AFG,AFGB,AFGC,AFGH,AFH,AFI,AFIF,AFIN,AFINP,AFK,AFL,AFLG,AFMC,AFMD,AFSM,AFT,AFTY,AFYA,AG,AGBA,AGBAR,AGBAU,AGBAW,AGCO,AGD,AGE,AGEN,AGFS,AGFSW,AGG,AGGP,AGGY,AGI,AGIO,AGLE,AGM,AGM.A,AGM-A,AGM-C,AGM-D,AGMH,AGN,AGNC,AGNCM,AGNCN,AGNCO,AGNCP,AGND,AGO,AGO-B,AGO-E,AGO-F,AGQ,AGR,AGRO,AGRX,AGS,AGT,AGTC&types=stats, book&token=pk_1dd03915b1bd48c8aa96fa6340d2bab1&filter=peRatio, sharesOutstanding\nhttps://cloud.iexapis.com/stable/stock/market/batch?symbols=AGX,AGYS&types=stats, book&token=pk_1dd03915b1bd48c8aa96fa6340d2bab1&filter=peRatio, sharesOutstanding\n"
    },
    {
     "ename": "TypeError",
     "evalue": "object of type 'NoneType' has no len()",
     "output_type": "error",
     "traceback": [
      "\u001b[0;31m---------------------------------------------------------------------------\u001b[0m",
      "\u001b[0;31mTypeError\u001b[0m                                 Traceback (most recent call last)",
      "\u001b[0;32m<ipython-input-336-116f6e6e0b59>\u001b[0m in \u001b[0;36m<module>\u001b[0;34m()\u001b[0m\n\u001b[1;32m     17\u001b[0m \u001b[0;32mfor\u001b[0m \u001b[0mi\u001b[0m\u001b[0;34m,\u001b[0m \u001b[0md\u001b[0m \u001b[0;32min\u001b[0m \u001b[0menumerate\u001b[0m\u001b[0;34m(\u001b[0m\u001b[0mrets\u001b[0m\u001b[0;34m)\u001b[0m\u001b[0;34m:\u001b[0m\u001b[0;34m\u001b[0m\u001b[0m\n\u001b[1;32m     18\u001b[0m     \u001b[0msymbols_subset\u001b[0m \u001b[0;34m=\u001b[0m \u001b[0margs\u001b[0m\u001b[0;34m[\u001b[0m\u001b[0mi\u001b[0m\u001b[0;34m]\u001b[0m\u001b[0;34m[\u001b[0m\u001b[0;36m0\u001b[0m\u001b[0;34m]\u001b[0m\u001b[0;34m\u001b[0m\u001b[0m\n\u001b[0;32m---> 19\u001b[0;31m     \u001b[0;32mif\u001b[0m \u001b[0mlen\u001b[0m\u001b[0;34m(\u001b[0m\u001b[0md\u001b[0m\u001b[0;34m)\u001b[0m \u001b[0;34m!=\u001b[0m \u001b[0mlen\u001b[0m\u001b[0;34m(\u001b[0m\u001b[0msymbols_subset\u001b[0m\u001b[0;34m)\u001b[0m\u001b[0;34m:\u001b[0m\u001b[0;34m\u001b[0m\u001b[0m\n\u001b[0m\u001b[1;32m     20\u001b[0m         \u001b[0mempty_data\u001b[0m\u001b[0;34m.\u001b[0m\u001b[0mextend\u001b[0m\u001b[0;34m(\u001b[0m\u001b[0mlist_orig\u001b[0m\u001b[0;34m(\u001b[0m\u001b[0mset\u001b[0m\u001b[0;34m(\u001b[0m\u001b[0msymbols_subset\u001b[0m\u001b[0;34m)\u001b[0m \u001b[0;34m-\u001b[0m \u001b[0mset\u001b[0m\u001b[0;34m(\u001b[0m\u001b[0md\u001b[0m\u001b[0;34m.\u001b[0m\u001b[0mkeys\u001b[0m\u001b[0;34m(\u001b[0m\u001b[0;34m)\u001b[0m\u001b[0;34m)\u001b[0m\u001b[0;34m)\u001b[0m\u001b[0;34m)\u001b[0m\u001b[0;34m\u001b[0m\u001b[0m\n\u001b[1;32m     21\u001b[0m     \u001b[0mret\u001b[0m\u001b[0;34m.\u001b[0m\u001b[0mupdate\u001b[0m\u001b[0;34m(\u001b[0m\u001b[0md\u001b[0m\u001b[0;34m)\u001b[0m\u001b[0;34m\u001b[0m\u001b[0m\n",
      "\u001b[0;31mTypeError\u001b[0m: object of type 'NoneType' has no len()"
     ]
    }
   ],
   "source": [
    "from multiprocessing.pool import ThreadPool\n",
    "args = []\n",
    "empty_data = []\n",
    "list_orig = empty_data.__class__\n",
    "types='stats, book'\n",
    "filt='peRatio, sharesOutstanding'\n",
    "\n",
    "for i in range(0, len(stockList), 99):\n",
    "    args.append((stockList[i:i+99], types, filt))\n",
    "\n",
    "pool = ThreadPool(20)\n",
    "rets = pool.starmap(batchCallApi, args)\n",
    "pool.close()\n",
    "\n",
    "ret = {}\n",
    "\n",
    "for i, d in enumerate(rets):\n",
    "    symbols_subset = args[i][0]\n",
    "    if len(d) != len(symbols_subset):\n",
    "        empty_data.extend(list_orig(set(symbols_subset) - set(d.keys())))\n",
    "    ret.update(d)\n",
    "\n",
    "for k in empty_data:\n",
    "    if k not in ret:\n",
    "        if isinstance(fields, str):\n",
    "            ret[k] = {}\n",
    "        else:\n",
    "            ret[k] = {x: {} for x in fields}\n",
    "\n",
    "ret"
   ]
  },
  {
   "cell_type": "code",
   "execution_count": 94,
   "metadata": {},
   "outputs": [],
   "source": [
    "import requests\n",
    "import json\n",
    "# https://cloud.iexapis.com/stable/stock/market/batch?symbols=[%27AAPL%27,%27TSLA%27]&types=stats&token=pk_1dd03915b1bd48c8aa96fa6340d2bab1&filter=peRatio,%20sharesOutstanding&range=max&last=1\n",
    "baseUrlGoogle = 'https://cloud.iexapis.com/stable/stock/market/batch?symbols='\n",
    "\n",
    "searchUrl = baseUrlGoogle + str(stockList) + '&types=stats, book&token=pk_1dd03915b1bd48c8aa96fa6340d2bab1'\n",
    "searchRes = requests.get(searchUrl)\n"
   ]
  },
  {
   "cell_type": "code",
   "execution_count": 327,
   "metadata": {},
   "outputs": [],
   "source": [
    "# import pyEX as p\n",
    "# c = p.Client(api_token='pk_1dd03915b1bd48c8aa96fa6340d2bab1')\n",
    "# res=c.bulkBatch(symbols=stockList, fields=['stats','book'])\n",
    "# c.batch(symbols=['AAPL','TSLA'], fiel)\n"
   ]
  },
  {
   "cell_type": "code",
   "execution_count": 326,
   "metadata": {},
   "outputs": [
    {
     "data": {
      "text/html": "<div>\n<style scoped>\n    .dataframe tbody tr th:only-of-type {\n        vertical-align: middle;\n    }\n\n    .dataframe tbody tr th {\n        vertical-align: top;\n    }\n\n    .dataframe thead th {\n        text-align: right;\n    }\n</style>\n<table border=\"1\" class=\"dataframe\">\n  <thead>\n    <tr style=\"text-align: right;\">\n      <th></th>\n      <th></th>\n      <th>peRatio</th>\n      <th>sharesOutstanding</th>\n    </tr>\n  </thead>\n  <tbody>\n    <tr>\n      <th>A</th>\n      <th>0</th>\n      <td>32.85</td>\n      <td>310768000</td>\n    </tr>\n    <tr>\n      <th>AA</th>\n      <th>0</th>\n      <td>-1.96</td>\n      <td>185915000</td>\n    </tr>\n    <tr>\n      <th>AAAU</th>\n      <th>0</th>\n      <td>NaN</td>\n      <td>12100000</td>\n    </tr>\n    <tr>\n      <th>AACG</th>\n      <th>0</th>\n      <td>-2.12</td>\n      <td>28020495</td>\n    </tr>\n    <tr>\n      <th>AADR</th>\n      <th>0</th>\n      <td>NaN</td>\n      <td>2250000</td>\n    </tr>\n    <tr>\n      <th>AAL</th>\n      <th>0</th>\n      <td>4.21</td>\n      <td>426059000</td>\n    </tr>\n    <tr>\n      <th>AAMC</th>\n      <th>0</th>\n      <td>-13.33</td>\n      <td>1619000</td>\n    </tr>\n    <tr>\n      <th>AAME</th>\n      <th>0</th>\n      <td>-27.45</td>\n      <td>20480000</td>\n    </tr>\n    <tr>\n      <th>AAN</th>\n      <th>0</th>\n      <td>79.05</td>\n      <td>66745000</td>\n    </tr>\n    <tr>\n      <th>AAOI</th>\n      <th>0</th>\n      <td>-2.74</td>\n      <td>20231000</td>\n    </tr>\n  </tbody>\n</table>\n</div>",
      "text/plain": "        peRatio  sharesOutstanding\nA    0    32.85          310768000\nAA   0    -1.96          185915000\nAAAU 0      NaN           12100000\nAACG 0    -2.12           28020495\nAADR 0      NaN            2250000\nAAL  0     4.21          426059000\nAAMC 0   -13.33            1619000\nAAME 0   -27.45           20480000\nAAN  0    79.05           66745000\nAAOI 0    -2.74           20231000"
     },
     "execution_count": 326,
     "metadata": {},
     "output_type": "execute_result"
    }
   ],
   "source": [
    "dfStock=pd.DataFrame(out)\n",
    "dfStock=dfStock.transpose()\n",
    "dfStock = pd.concat([pd.DataFrame(x,index=[0]) for x in dfStock['stats']], keys=dfStock.index)\n",
    "dfStock"
   ]
  },
  {
   "cell_type": "code",
   "execution_count": 290,
   "metadata": {},
   "outputs": [
    {
     "data": {
      "text/plain": "Index(['avg10Volume', 'avg30Volume', 'beta', 'companyName', 'day200MovingAvg',\n       'day30ChangePercent', 'day50MovingAvg', 'day5ChangePercent',\n       'dividendYield', 'employees', 'exDividendDate', 'float', 'marketcap',\n       'maxChangePercent', 'month1ChangePercent', 'month3ChangePercent',\n       'month6ChangePercent', 'nextDividendDate', 'nextEarningsDate',\n       'peRatio', 'sharesOutstanding', 'ttmDividendRate', 'ttmEPS',\n       'week52change', 'week52high', 'week52low', 'year1ChangePercent',\n       'year2ChangePercent', 'year5ChangePercent', 'ytdChangePercent'],\n      dtype='object')"
     },
     "execution_count": 290,
     "metadata": {},
     "output_type": "execute_result"
    }
   ],
   "source": [
    "dfFiltered=dfStock\n",
    "dfFiltered=dfFiltered.dropna(subset=['peRatio'])\n",
    "# dfStock.columns()\n",
    "dfFiltered = dfFiltered[(dfFiltered['peRatio'].astype(float)<15) & (dfFiltered['peRatio'].astype(float)>0)]\n",
    "dfFiltered['peRatio']\n",
    "dfFiltered.columns"
   ]
  },
  {
   "cell_type": "code",
   "execution_count": null,
   "metadata": {},
   "outputs": [],
   "source": []
  }
 ]
}