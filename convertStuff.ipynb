{
 "nbformat": 4,
 "nbformat_minor": 2,
 "metadata": {
  "language_info": {
   "name": "python",
   "codemirror_mode": {
    "name": "ipython",
    "version": 3
   },
   "version": "3.7.5-final"
  },
  "orig_nbformat": 2,
  "file_extension": ".py",
  "mimetype": "text/x-python",
  "name": "python",
  "npconvert_exporter": "python",
  "pygments_lexer": "ipython3",
  "version": 3,
  "kernelspec": {
   "name": "python37564bitd1e0ee96de8d4a6e831de06421d25b82",
   "display_name": "Python 3.7.5 64-bit"
  }
 },
 "cells": [
  {
   "cell_type": "code",
   "execution_count": 13,
   "metadata": {},
   "outputs": [],
   "source": [
    "import csv\n",
    "import pandas\n",
    "\n",
    "path = '/Users/d062864/Documents/01_code/projecthub/projecthub/projecthub-core/src/main/resources/db/masterdata/dev/i18n'\n",
    "\n",
    "fileName = 'businessfunctioni18nlocalelabel.csv'"
   ]
  },
  {
   "cell_type": "code",
   "execution_count": 29,
   "metadata": {},
   "outputs": [
    {
     "name": "stdout",
     "output_type": "stream",
     "text": "Index(['LABEL_ID', 'LOCALE_ID', 'LABEL_VALUE'], dtype='object')\nINSERT INTO I18N_LOCALE_LABEL VALUES('data.businessfunction.it','en_GB','IT','','');\nINSERT INTO I18N_LOCALE_LABEL VALUES('data.businessfunction.farming','en_GB','Farming','','');\nINSERT INTO I18N_LOCALE_LABEL VALUES('data.businessfunction.medical','en_GB','Medical','','');\nINSERT INTO I18N_LOCALE_LABEL VALUES('data.businessfunction.training','en_GB','Training','','');\nINSERT INTO I18N_LOCALE_LABEL VALUES('data.businessfunction.travel','en_GB','Travel','','');\n"
    }
   ],
   "source": [
    "df = pandas.read_csv(path+'/'+fileName)\n",
    "\n",
    "print(df.columns)\n",
    "\n",
    "# target format INSERT INTO I18N_LOCALE_LABEL VALUES('data.fluency.demo.nativebilingual','en_US','Native Bilingual','','');\n",
    "\n",
    "for index, row in df.iterrows():\n",
    "    print(\"INSERT INTO I18N_LOCALE_LABEL VALUES('\" + row['LABEL_ID'] + \"','\" + row['LOCALE_ID'] + \"','\" + row['LABEL_VALUE'] + \"','','');\")\n"
   ]
  }
 ]
}