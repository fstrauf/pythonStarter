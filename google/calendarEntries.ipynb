{
 "nbformat": 4,
 "nbformat_minor": 2,
 "metadata": {
  "language_info": {
   "name": "python",
   "codemirror_mode": {
    "name": "ipython",
    "version": 3
   },
   "version": "3.7.5-final"
  },
  "orig_nbformat": 2,
  "file_extension": ".py",
  "mimetype": "text/x-python",
  "name": "python",
  "npconvert_exporter": "python",
  "pygments_lexer": "ipython3",
  "version": 3,
  "kernelspec": {
   "name": "python37564bitd1e0ee96de8d4a6e831de06421d25b82",
   "display_name": "Python 3.7.5 64-bit"
  }
 },
 "cells": [
  {
   "cell_type": "code",
   "execution_count": 66,
   "metadata": {},
   "outputs": [
    {
     "output_type": "stream",
     "name": "stdout",
     "text": "13:05:00\n2020-04-22 15:20:29.502413\n2020-04-22 16:43:39.502413\n"
    }
   ],
   "source": [
    "import datetime\n",
    "t = datetime.time(13, 5)\n",
    "print(t)\n",
    "now = datetime.datetime.now()\n",
    "print(now)\n",
    "print(now + datetime.timedelta(hours=1, minutes=23, seconds=10))\n",
    ""
   ]
  },
  {
   "cell_type": "code",
   "execution_count": 70,
   "metadata": {},
   "outputs": [],
   "source": [
    "    event = {\n",
    "        'summary': 'FLOW Survey',\n",
    "        'location': 'Google Form',      \n",
    "        'description': 'https://docs.google.com/forms/d/e/1FAIpQLSf0ctH6MTM-rCRKBJ4DFjzHP6mhqYc2W8x2tjC31XycBGam-Q/viewform?usp=sf_link',  \n",
    "        'start': {\n",
    "            'dateTime': '2020-04-22T09:00:00',\n",
    "            'timeZone': 'Australia/Sydney'\n",
    "        },\n",
    "        'end': {\n",
    "            'dateTime': '2020-04-22T09:05:00',\n",
    "            'timeZone': 'Australia/Sydney'\n",
    "        },\n",
    "        'reminders': {\n",
    "            'useDefault': True            \n",
    "        },\n",
    "    }"
   ]
  },
  {
   "cell_type": "code",
   "execution_count": 87,
   "metadata": {},
   "outputs": [
    {
     "output_type": "stream",
     "name": "stdout",
     "text": "{'summary': 'FLOW Survey', 'location': 'Google Form', 'description': 'https://docs.google.com/forms/d/e/1FAIpQLSf0ctH6MTM-rCRKBJ4DFjzHP6mhqYc2W8x2tjC31XycBGam-Q/viewform?usp=sf_link', 'start': {'dateTime': '2020-04-22T16:51:29.502413', 'timeZone': 'Australia/Sydney'}, 'end': {'dateTime': '2020-04-22T16:56:29.502413', 'timeZone': 'Australia/Sydney'}, 'reminders': {'useDefault': True}}\n{'summary': 'FLOW Survey', 'location': 'Google Form', 'description': 'https://docs.google.com/forms/d/e/1FAIpQLSf0ctH6MTM-rCRKBJ4DFjzHP6mhqYc2W8x2tjC31XycBGam-Q/viewform?usp=sf_link', 'start': {'dateTime': '2020-04-22T12:09:29.502413', 'timeZone': 'Australia/Sydney'}, 'end': {'dateTime': '2020-04-22T12:14:29.502413', 'timeZone': 'Australia/Sydney'}, 'reminders': {'useDefault': True}}\n{'summary': 'FLOW Survey', 'location': 'Google Form', 'description': 'https://docs.google.com/forms/d/e/1FAIpQLSf0ctH6MTM-rCRKBJ4DFjzHP6mhqYc2W8x2tjC31XycBGam-Q/viewform?usp=sf_link', 'start': {'dateTime': '2020-04-22T13:49:29.502413', 'timeZone': 'Australia/Sydney'}, 'end': {'dateTime': '2020-04-22T13:54:29.502413', 'timeZone': 'Australia/Sydney'}, 'reminders': {'useDefault': True}}\n{'summary': 'FLOW Survey', 'location': 'Google Form', 'description': 'https://docs.google.com/forms/d/e/1FAIpQLSf0ctH6MTM-rCRKBJ4DFjzHP6mhqYc2W8x2tjC31XycBGam-Q/viewform?usp=sf_link', 'start': {'dateTime': '2020-04-22T16:39:29.502413', 'timeZone': 'Australia/Sydney'}, 'end': {'dateTime': '2020-04-22T16:44:29.502413', 'timeZone': 'Australia/Sydney'}, 'reminders': {'useDefault': True}}\n{'summary': 'FLOW Survey', 'location': 'Google Form', 'description': 'https://docs.google.com/forms/d/e/1FAIpQLSf0ctH6MTM-rCRKBJ4DFjzHP6mhqYc2W8x2tjC31XycBGam-Q/viewform?usp=sf_link', 'start': {'dateTime': '2020-04-22T11:04:29.502413', 'timeZone': 'Australia/Sydney'}, 'end': {'dateTime': '2020-04-22T11:09:29.502413', 'timeZone': 'Australia/Sydney'}, 'reminders': {'useDefault': True}}\n{'summary': 'FLOW Survey', 'location': 'Google Form', 'description': 'https://docs.google.com/forms/d/e/1FAIpQLSf0ctH6MTM-rCRKBJ4DFjzHP6mhqYc2W8x2tjC31XycBGam-Q/viewform?usp=sf_link', 'start': {'dateTime': '2020-04-22T10:25:29.502413', 'timeZone': 'Australia/Sydney'}, 'end': {'dateTime': '2020-04-22T10:30:29.502413', 'timeZone': 'Australia/Sydney'}, 'reminders': {'useDefault': True}}\n{'summary': 'FLOW Survey', 'location': 'Google Form', 'description': 'https://docs.google.com/forms/d/e/1FAIpQLSf0ctH6MTM-rCRKBJ4DFjzHP6mhqYc2W8x2tjC31XycBGam-Q/viewform?usp=sf_link', 'start': {'dateTime': '2020-04-23T08:04:29.502413', 'timeZone': 'Australia/Sydney'}, 'end': {'dateTime': '2020-04-23T08:09:29.502413', 'timeZone': 'Australia/Sydney'}, 'reminders': {'useDefault': True}}\n{'summary': 'FLOW Survey', 'location': 'Google Form', 'description': 'https://docs.google.com/forms/d/e/1FAIpQLSf0ctH6MTM-rCRKBJ4DFjzHP6mhqYc2W8x2tjC31XycBGam-Q/viewform?usp=sf_link', 'start': {'dateTime': '2020-04-23T07:49:29.502413', 'timeZone': 'Australia/Sydney'}, 'end': {'dateTime': '2020-04-23T07:54:29.502413', 'timeZone': 'Australia/Sydney'}, 'reminders': {'useDefault': True}}\n{'summary': 'FLOW Survey', 'location': 'Google Form', 'description': 'https://docs.google.com/forms/d/e/1FAIpQLSf0ctH6MTM-rCRKBJ4DFjzHP6mhqYc2W8x2tjC31XycBGam-Q/viewform?usp=sf_link', 'start': {'dateTime': '2020-04-23T07:36:29.502413', 'timeZone': 'Australia/Sydney'}, 'end': {'dateTime': '2020-04-23T07:41:29.502413', 'timeZone': 'Australia/Sydney'}, 'reminders': {'useDefault': True}}\n{'summary': 'FLOW Survey', 'location': 'Google Form', 'description': 'https://docs.google.com/forms/d/e/1FAIpQLSf0ctH6MTM-rCRKBJ4DFjzHP6mhqYc2W8x2tjC31XycBGam-Q/viewform?usp=sf_link', 'start': {'dateTime': '2020-04-23T15:05:29.502413', 'timeZone': 'Australia/Sydney'}, 'end': {'dateTime': '2020-04-23T15:10:29.502413', 'timeZone': 'Australia/Sydney'}, 'reminders': {'useDefault': True}}\n{'summary': 'FLOW Survey', 'location': 'Google Form', 'description': 'https://docs.google.com/forms/d/e/1FAIpQLSf0ctH6MTM-rCRKBJ4DFjzHP6mhqYc2W8x2tjC31XycBGam-Q/viewform?usp=sf_link', 'start': {'dateTime': '2020-04-23T18:08:29.502413', 'timeZone': 'Australia/Sydney'}, 'end': {'dateTime': '2020-04-23T18:13:29.502413', 'timeZone': 'Australia/Sydney'}, 'reminders': {'useDefault': True}}\n{'summary': 'FLOW Survey', 'location': 'Google Form', 'description': 'https://docs.google.com/forms/d/e/1FAIpQLSf0ctH6MTM-rCRKBJ4DFjzHP6mhqYc2W8x2tjC31XycBGam-Q/viewform?usp=sf_link', 'start': {'dateTime': '2020-04-23T15:49:29.502413', 'timeZone': 'Australia/Sydney'}, 'end': {'dateTime': '2020-04-23T15:54:29.502413', 'timeZone': 'Australia/Sydney'}, 'reminders': {'useDefault': True}}\n{'summary': 'FLOW Survey', 'location': 'Google Form', 'description': 'https://docs.google.com/forms/d/e/1FAIpQLSf0ctH6MTM-rCRKBJ4DFjzHP6mhqYc2W8x2tjC31XycBGam-Q/viewform?usp=sf_link', 'start': {'dateTime': '2020-04-24T11:49:29.502413', 'timeZone': 'Australia/Sydney'}, 'end': {'dateTime': '2020-04-24T11:54:29.502413', 'timeZone': 'Australia/Sydney'}, 'reminders': {'useDefault': True}}\n{'summary': 'FLOW Survey', 'location': 'Google Form', 'description': 'https://docs.google.com/forms/d/e/1FAIpQLSf0ctH6MTM-rCRKBJ4DFjzHP6mhqYc2W8x2tjC31XycBGam-Q/viewform?usp=sf_link', 'start': {'dateTime': '2020-04-24T11:40:29.502413', 'timeZone': 'Australia/Sydney'}, 'end': {'dateTime': '2020-04-24T11:45:29.502413', 'timeZone': 'Australia/Sydney'}, 'reminders': {'useDefault': True}}\n{'summary': 'FLOW Survey', 'location': 'Google Form', 'description': 'https://docs.google.com/forms/d/e/1FAIpQLSf0ctH6MTM-rCRKBJ4DFjzHP6mhqYc2W8x2tjC31XycBGam-Q/viewform?usp=sf_link', 'start': {'dateTime': '2020-04-24T12:38:29.502413', 'timeZone': 'Australia/Sydney'}, 'end': {'dateTime': '2020-04-24T12:43:29.502413', 'timeZone': 'Australia/Sydney'}, 'reminders': {'useDefault': True}}\n{'summary': 'FLOW Survey', 'location': 'Google Form', 'description': 'https://docs.google.com/forms/d/e/1FAIpQLSf0ctH6MTM-rCRKBJ4DFjzHP6mhqYc2W8x2tjC31XycBGam-Q/viewform?usp=sf_link', 'start': {'dateTime': '2020-04-24T06:03:29.502413', 'timeZone': 'Australia/Sydney'}, 'end': {'dateTime': '2020-04-24T06:08:29.502413', 'timeZone': 'Australia/Sydney'}, 'reminders': {'useDefault': True}}\n{'summary': 'FLOW Survey', 'location': 'Google Form', 'description': 'https://docs.google.com/forms/d/e/1FAIpQLSf0ctH6MTM-rCRKBJ4DFjzHP6mhqYc2W8x2tjC31XycBGam-Q/viewform?usp=sf_link', 'start': {'dateTime': '2020-04-24T19:25:29.502413', 'timeZone': 'Australia/Sydney'}, 'end': {'dateTime': '2020-04-24T19:30:29.502413', 'timeZone': 'Australia/Sydney'}, 'reminders': {'useDefault': True}}\n{'summary': 'FLOW Survey', 'location': 'Google Form', 'description': 'https://docs.google.com/forms/d/e/1FAIpQLSf0ctH6MTM-rCRKBJ4DFjzHP6mhqYc2W8x2tjC31XycBGam-Q/viewform?usp=sf_link', 'start': {'dateTime': '2020-04-24T12:01:29.502413', 'timeZone': 'Australia/Sydney'}, 'end': {'dateTime': '2020-04-24T12:06:29.502413', 'timeZone': 'Australia/Sydney'}, 'reminders': {'useDefault': True}}\n{'summary': 'FLOW Survey', 'location': 'Google Form', 'description': 'https://docs.google.com/forms/d/e/1FAIpQLSf0ctH6MTM-rCRKBJ4DFjzHP6mhqYc2W8x2tjC31XycBGam-Q/viewform?usp=sf_link', 'start': {'dateTime': '2020-04-25T07:48:29.502413', 'timeZone': 'Australia/Sydney'}, 'end': {'dateTime': '2020-04-25T07:53:29.502413', 'timeZone': 'Australia/Sydney'}, 'reminders': {'useDefault': True}}\n{'summary': 'FLOW Survey', 'location': 'Google Form', 'description': 'https://docs.google.com/forms/d/e/1FAIpQLSf0ctH6MTM-rCRKBJ4DFjzHP6mhqYc2W8x2tjC31XycBGam-Q/viewform?usp=sf_link', 'start': {'dateTime': '2020-04-25T06:42:29.502413', 'timeZone': 'Australia/Sydney'}, 'end': {'dateTime': '2020-04-25T06:47:29.502413', 'timeZone': 'Australia/Sydney'}, 'reminders': {'useDefault': True}}\n{'summary': 'FLOW Survey', 'location': 'Google Form', 'description': 'https://docs.google.com/forms/d/e/1FAIpQLSf0ctH6MTM-rCRKBJ4DFjzHP6mhqYc2W8x2tjC31XycBGam-Q/viewform?usp=sf_link', 'start': {'dateTime': '2020-04-25T18:50:29.502413', 'timeZone': 'Australia/Sydney'}, 'end': {'dateTime': '2020-04-25T18:55:29.502413', 'timeZone': 'Australia/Sydney'}, 'reminders': {'useDefault': True}}\n{'summary': 'FLOW Survey', 'location': 'Google Form', 'description': 'https://docs.google.com/forms/d/e/1FAIpQLSf0ctH6MTM-rCRKBJ4DFjzHP6mhqYc2W8x2tjC31XycBGam-Q/viewform?usp=sf_link', 'start': {'dateTime': '2020-04-25T06:44:29.502413', 'timeZone': 'Australia/Sydney'}, 'end': {'dateTime': '2020-04-25T06:49:29.502413', 'timeZone': 'Australia/Sydney'}, 'reminders': {'useDefault': True}}\n{'summary': 'FLOW Survey', 'location': 'Google Form', 'description': 'https://docs.google.com/forms/d/e/1FAIpQLSf0ctH6MTM-rCRKBJ4DFjzHP6mhqYc2W8x2tjC31XycBGam-Q/viewform?usp=sf_link', 'start': {'dateTime': '2020-04-25T11:53:29.502413', 'timeZone': 'Australia/Sydney'}, 'end': {'dateTime': '2020-04-25T11:58:29.502413', 'timeZone': 'Australia/Sydney'}, 'reminders': {'useDefault': True}}\n{'summary': 'FLOW Survey', 'location': 'Google Form', 'description': 'https://docs.google.com/forms/d/e/1FAIpQLSf0ctH6MTM-rCRKBJ4DFjzHP6mhqYc2W8x2tjC31XycBGam-Q/viewform?usp=sf_link', 'start': {'dateTime': '2020-04-25T10:45:29.502413', 'timeZone': 'Australia/Sydney'}, 'end': {'dateTime': '2020-04-25T10:50:29.502413', 'timeZone': 'Australia/Sydney'}, 'reminders': {'useDefault': True}}\n{'summary': 'FLOW Survey', 'location': 'Google Form', 'description': 'https://docs.google.com/forms/d/e/1FAIpQLSf0ctH6MTM-rCRKBJ4DFjzHP6mhqYc2W8x2tjC31XycBGam-Q/viewform?usp=sf_link', 'start': {'dateTime': '2020-04-26T06:23:29.502413', 'timeZone': 'Australia/Sydney'}, 'end': {'dateTime': '2020-04-26T06:28:29.502413', 'timeZone': 'Australia/Sydney'}, 'reminders': {'useDefault': True}}\n{'summary': 'FLOW Survey', 'location': 'Google Form', 'description': 'https://docs.google.com/forms/d/e/1FAIpQLSf0ctH6MTM-rCRKBJ4DFjzHP6mhqYc2W8x2tjC31XycBGam-Q/viewform?usp=sf_link', 'start': {'dateTime': '2020-04-26T10:23:29.502413', 'timeZone': 'Australia/Sydney'}, 'end': {'dateTime': '2020-04-26T10:28:29.502413', 'timeZone': 'Australia/Sydney'}, 'reminders': {'useDefault': True}}\n{'summary': 'FLOW Survey', 'location': 'Google Form', 'description': 'https://docs.google.com/forms/d/e/1FAIpQLSf0ctH6MTM-rCRKBJ4DFjzHP6mhqYc2W8x2tjC31XycBGam-Q/viewform?usp=sf_link', 'start': {'dateTime': '2020-04-26T06:39:29.502413', 'timeZone': 'Australia/Sydney'}, 'end': {'dateTime': '2020-04-26T06:44:29.502413', 'timeZone': 'Australia/Sydney'}, 'reminders': {'useDefault': True}}\n{'summary': 'FLOW Survey', 'location': 'Google Form', 'description': 'https://docs.google.com/forms/d/e/1FAIpQLSf0ctH6MTM-rCRKBJ4DFjzHP6mhqYc2W8x2tjC31XycBGam-Q/viewform?usp=sf_link', 'start': {'dateTime': '2020-04-26T14:07:29.502413', 'timeZone': 'Australia/Sydney'}, 'end': {'dateTime': '2020-04-26T14:12:29.502413', 'timeZone': 'Australia/Sydney'}, 'reminders': {'useDefault': True}}\n{'summary': 'FLOW Survey', 'location': 'Google Form', 'description': 'https://docs.google.com/forms/d/e/1FAIpQLSf0ctH6MTM-rCRKBJ4DFjzHP6mhqYc2W8x2tjC31XycBGam-Q/viewform?usp=sf_link', 'start': {'dateTime': '2020-04-26T06:05:29.502413', 'timeZone': 'Australia/Sydney'}, 'end': {'dateTime': '2020-04-26T06:10:29.502413', 'timeZone': 'Australia/Sydney'}, 'reminders': {'useDefault': True}}\n{'summary': 'FLOW Survey', 'location': 'Google Form', 'description': 'https://docs.google.com/forms/d/e/1FAIpQLSf0ctH6MTM-rCRKBJ4DFjzHP6mhqYc2W8x2tjC31XycBGam-Q/viewform?usp=sf_link', 'start': {'dateTime': '2020-04-26T10:11:29.502413', 'timeZone': 'Australia/Sydney'}, 'end': {'dateTime': '2020-04-26T10:16:29.502413', 'timeZone': 'Australia/Sydney'}, 'reminders': {'useDefault': True}}\n{'summary': 'FLOW Survey', 'location': 'Google Form', 'description': 'https://docs.google.com/forms/d/e/1FAIpQLSf0ctH6MTM-rCRKBJ4DFjzHP6mhqYc2W8x2tjC31XycBGam-Q/viewform?usp=sf_link', 'start': {'dateTime': '2020-04-27T14:06:29.502413', 'timeZone': 'Australia/Sydney'}, 'end': {'dateTime': '2020-04-27T14:11:29.502413', 'timeZone': 'Australia/Sydney'}, 'reminders': {'useDefault': True}}\n{'summary': 'FLOW Survey', 'location': 'Google Form', 'description': 'https://docs.google.com/forms/d/e/1FAIpQLSf0ctH6MTM-rCRKBJ4DFjzHP6mhqYc2W8x2tjC31XycBGam-Q/viewform?usp=sf_link', 'start': {'dateTime': '2020-04-27T07:29:29.502413', 'timeZone': 'Australia/Sydney'}, 'end': {'dateTime': '2020-04-27T07:34:29.502413', 'timeZone': 'Australia/Sydney'}, 'reminders': {'useDefault': True}}\n{'summary': 'FLOW Survey', 'location': 'Google Form', 'description': 'https://docs.google.com/forms/d/e/1FAIpQLSf0ctH6MTM-rCRKBJ4DFjzHP6mhqYc2W8x2tjC31XycBGam-Q/viewform?usp=sf_link', 'start': {'dateTime': '2020-04-27T18:23:29.502413', 'timeZone': 'Australia/Sydney'}, 'end': {'dateTime': '2020-04-27T18:28:29.502413', 'timeZone': 'Australia/Sydney'}, 'reminders': {'useDefault': True}}\n{'summary': 'FLOW Survey', 'location': 'Google Form', 'description': 'https://docs.google.com/forms/d/e/1FAIpQLSf0ctH6MTM-rCRKBJ4DFjzHP6mhqYc2W8x2tjC31XycBGam-Q/viewform?usp=sf_link', 'start': {'dateTime': '2020-04-27T07:20:29.502413', 'timeZone': 'Australia/Sydney'}, 'end': {'dateTime': '2020-04-27T07:25:29.502413', 'timeZone': 'Australia/Sydney'}, 'reminders': {'useDefault': True}}\n{'summary': 'FLOW Survey', 'location': 'Google Form', 'description': 'https://docs.google.com/forms/d/e/1FAIpQLSf0ctH6MTM-rCRKBJ4DFjzHP6mhqYc2W8x2tjC31XycBGam-Q/viewform?usp=sf_link', 'start': {'dateTime': '2020-04-27T14:08:29.502413', 'timeZone': 'Australia/Sydney'}, 'end': {'dateTime': '2020-04-27T14:13:29.502413', 'timeZone': 'Australia/Sydney'}, 'reminders': {'useDefault': True}}\n{'summary': 'FLOW Survey', 'location': 'Google Form', 'description': 'https://docs.google.com/forms/d/e/1FAIpQLSf0ctH6MTM-rCRKBJ4DFjzHP6mhqYc2W8x2tjC31XycBGam-Q/viewform?usp=sf_link', 'start': {'dateTime': '2020-04-27T11:58:29.502413', 'timeZone': 'Australia/Sydney'}, 'end': {'dateTime': '2020-04-27T12:03:29.502413', 'timeZone': 'Australia/Sydney'}, 'reminders': {'useDefault': True}}\n{'summary': 'FLOW Survey', 'location': 'Google Form', 'description': 'https://docs.google.com/forms/d/e/1FAIpQLSf0ctH6MTM-rCRKBJ4DFjzHP6mhqYc2W8x2tjC31XycBGam-Q/viewform?usp=sf_link', 'start': {'dateTime': '2020-04-28T06:10:29.502413', 'timeZone': 'Australia/Sydney'}, 'end': {'dateTime': '2020-04-28T06:15:29.502413', 'timeZone': 'Australia/Sydney'}, 'reminders': {'useDefault': True}}\n{'summary': 'FLOW Survey', 'location': 'Google Form', 'description': 'https://docs.google.com/forms/d/e/1FAIpQLSf0ctH6MTM-rCRKBJ4DFjzHP6mhqYc2W8x2tjC31XycBGam-Q/viewform?usp=sf_link', 'start': {'dateTime': '2020-04-28T14:45:29.502413', 'timeZone': 'Australia/Sydney'}, 'end': {'dateTime': '2020-04-28T14:50:29.502413', 'timeZone': 'Australia/Sydney'}, 'reminders': {'useDefault': True}}\n{'summary': 'FLOW Survey', 'location': 'Google Form', 'description': 'https://docs.google.com/forms/d/e/1FAIpQLSf0ctH6MTM-rCRKBJ4DFjzHP6mhqYc2W8x2tjC31XycBGam-Q/viewform?usp=sf_link', 'start': {'dateTime': '2020-04-28T09:06:29.502413', 'timeZone': 'Australia/Sydney'}, 'end': {'dateTime': '2020-04-28T09:11:29.502413', 'timeZone': 'Australia/Sydney'}, 'reminders': {'useDefault': True}}\n{'summary': 'FLOW Survey', 'location': 'Google Form', 'description': 'https://docs.google.com/forms/d/e/1FAIpQLSf0ctH6MTM-rCRKBJ4DFjzHP6mhqYc2W8x2tjC31XycBGam-Q/viewform?usp=sf_link', 'start': {'dateTime': '2020-04-28T19:31:29.502413', 'timeZone': 'Australia/Sydney'}, 'end': {'dateTime': '2020-04-28T19:36:29.502413', 'timeZone': 'Australia/Sydney'}, 'reminders': {'useDefault': True}}\n{'summary': 'FLOW Survey', 'location': 'Google Form', 'description': 'https://docs.google.com/forms/d/e/1FAIpQLSf0ctH6MTM-rCRKBJ4DFjzHP6mhqYc2W8x2tjC31XycBGam-Q/viewform?usp=sf_link', 'start': {'dateTime': '2020-04-28T09:21:29.502413', 'timeZone': 'Australia/Sydney'}, 'end': {'dateTime': '2020-04-28T09:26:29.502413', 'timeZone': 'Australia/Sydney'}, 'reminders': {'useDefault': True}}\n{'summary': 'FLOW Survey', 'location': 'Google Form', 'description': 'https://docs.google.com/forms/d/e/1FAIpQLSf0ctH6MTM-rCRKBJ4DFjzHP6mhqYc2W8x2tjC31XycBGam-Q/viewform?usp=sf_link', 'start': {'dateTime': '2020-04-28T09:28:29.502413', 'timeZone': 'Australia/Sydney'}, 'end': {'dateTime': '2020-04-28T09:33:29.502413', 'timeZone': 'Australia/Sydney'}, 'reminders': {'useDefault': True}}\n"
    }
   ],
   "source": [
    "for i in range(7): #for 7 days\n",
    "  day = now + datetime.timedelta(days=i)\n",
    "  for x in range(6): \n",
    "    start = day.replace(hour=random.randint(6,19),minute=random.randint(0,59))\n",
    "    end = start + datetime.timedelta(minutes=5)\n",
    "    event['start']['dateTime']=start.isoformat()\n",
    "    event['end']['dateTime']=end.isoformat()\n",
    "    print(event)\n",
    "    "
   ]
  },
  {
   "cell_type": "code",
   "execution_count": 12,
   "metadata": {},
   "outputs": [
    {
     "output_type": "execute_result",
     "data": {
      "text/plain": "datetime.datetime(2020, 4, 28, 8, 0, 52, 476266)"
     },
     "metadata": {},
     "execution_count": 12
    }
   ],
   "source": [
    "import random\n",
    "from datetime import datetime, timedelta\n",
    "\n",
    "datetime.now().replace(hour=0, minute=0) + timedelta(days=random.randint(1, 6), hours=8)"
   ]
  },
  {
   "cell_type": "code",
   "execution_count": 64,
   "metadata": {},
   "outputs": [
    {
     "output_type": "stream",
     "name": "stdout",
     "text": "2020-04-22 20:09:27.317772\n"
    }
   ],
   "source": [
    "print(datetime.now().replace(hour=random.randint(6,20),minute=random.randint(0,59)))"
   ]
  },
  {
   "cell_type": "code",
   "execution_count": 79,
   "metadata": {},
   "outputs": [],
   "source": [
    "event['start']['dateTime']=\"test\""
   ]
  },
  {
   "cell_type": "code",
   "execution_count": 80,
   "metadata": {},
   "outputs": [
    {
     "output_type": "execute_result",
     "data": {
      "text/plain": "{'summary': 'FLOW Survey',\n 'location': 'Google Form',\n 'description': 'https://docs.google.com/forms/d/e/1FAIpQLSf0ctH6MTM-rCRKBJ4DFjzHP6mhqYc2W8x2tjC31XycBGam-Q/viewform?usp=sf_link',\n 'start': {'dateTime': 'test', 'timeZone': 'Australia/Sydney'},\n 'end': {'dateTime': '2020-04-22T09:05:00', 'timeZone': 'Australia/Sydney'},\n 'reminders': {'useDefault': True}}"
     },
     "metadata": {},
     "execution_count": 80
    }
   ],
   "source": [
    "event"
   ]
  },
  {
   "cell_type": "code",
   "execution_count": 83,
   "metadata": {},
   "outputs": [
    {
     "output_type": "execute_result",
     "data": {
      "text/plain": "'2020-04-28T15:20:29.502413'"
     },
     "metadata": {},
     "execution_count": 83
    }
   ],
   "source": [
    "day.isoformat()"
   ]
  }
 ]
}