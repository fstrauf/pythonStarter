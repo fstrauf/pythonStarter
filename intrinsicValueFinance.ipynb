{
 "nbformat": 4,
 "nbformat_minor": 2,
 "metadata": {
  "language_info": {
   "name": "python",
   "codemirror_mode": {
    "name": "ipython",
    "version": 3
   },
   "version": "3.7.4-final"
  },
  "orig_nbformat": 2,
  "file_extension": ".py",
  "mimetype": "text/x-python",
  "name": "python",
  "npconvert_exporter": "python",
  "pygments_lexer": "ipython3",
  "version": 3,
  "kernelspec": {
   "name": "python3",
   "display_name": "Python 3"
  }
 },
 "cells": [
  {
   "cell_type": "code",
   "execution_count": 1,
   "metadata": {},
   "outputs": [],
   "source": [
    "# https://blog.quantinsti.com/quantitative-value-investing-strategy-python/\n",
    "\n",
    "import pandas as pd\n",
    "from bs4 import BeautifulSoup as bs\n",
    "import requests"
   ]
  },
  {
   "cell_type": "code",
   "execution_count": 2,
   "metadata": {},
   "outputs": [],
   "source": [
    "def get_fundamental_data(df):\n",
    "    for symbol in df.index:\n",
    "        try:\n",
    "            url = (\"http://finviz.com/quote.ashx?t=\" + symbol.lower())\n",
    "            soup = bs(requests.get(url).content) \n",
    "            for m in df.columns:                \n",
    "                df.loc[symbol,m] = fundamental_metric(soup,m)                \n",
    "        except Exception as e:\n",
    "            print (symbol, 'not found')\n",
    "    return df"
   ]
  },
  {
   "cell_type": "code",
   "execution_count": 3,
   "metadata": {},
   "outputs": [],
   "source": [
    "def fundamental_metric(soup, metric):\n",
    "    return soup.find(text = metric).find_next(class_='snapshot-td2').text"
   ]
  },
  {
   "cell_type": "code",
   "execution_count": 34,
   "metadata": {},
   "outputs": [],
   "source": [
    "stock_list = ['AMZN','GOOG','PG','KO','IBM','DG','XOM','KO','PEP','MT','NL','GSB','LPL']\n",
    "\n",
    "metric = ['P/B',\n",
    "'P/E',\n",
    "'Forward P/E',\n",
    "'PEG',\n",
    "'Debt/Eq',\n",
    "'EPS (ttm)',\n",
    "'Dividend %',\n",
    "'ROE',\n",
    "'ROI',\n",
    "'EPS Q/Q',\n",
    "'Insider Own'\n",
    "]"
   ]
  },
  {
   "cell_type": "code",
   "execution_count": 32,
   "metadata": {},
   "outputs": [
    {
     "name": "stdout",
     "output_type": "stream",
     "text": "ALDW not found\nDCM not found\n"
    }
   ],
   "source": [
    "df = pd.DataFrame(index=stock_list,columns=metric)\n",
    "df = get_fundamental_data(df)"
   ]
  },
  {
   "cell_type": "code",
   "execution_count": 33,
   "metadata": {},
   "outputs": [
    {
     "data": {
      "text/html": "<div>\n<style scoped>\n    .dataframe tbody tr th:only-of-type {\n        vertical-align: middle;\n    }\n\n    .dataframe tbody tr th {\n        vertical-align: top;\n    }\n\n    .dataframe thead th {\n        text-align: right;\n    }\n</style>\n<table border=\"1\" class=\"dataframe\">\n  <thead>\n    <tr style=\"text-align: right;\">\n      <th></th>\n      <th>P/B</th>\n      <th>P/E</th>\n      <th>Forward P/E</th>\n      <th>PEG</th>\n      <th>Debt/Eq</th>\n      <th>EPS (ttm)</th>\n      <th>Dividend %</th>\n      <th>ROE</th>\n      <th>ROI</th>\n      <th>EPS Q/Q</th>\n      <th>Insider Own</th>\n    </tr>\n  </thead>\n  <tbody>\n    <tr>\n      <td>IBM</td>\n      <td>5.71</td>\n      <td>12.51</td>\n      <td>9.47</td>\n      <td>1.72</td>\n      <td>3.02</td>\n      <td>10.73</td>\n      <td>4.83%</td>\n      <td>51.70%</td>\n      <td>11.40%</td>\n      <td>-5.00%</td>\n      <td>0.10%</td>\n    </tr>\n    <tr>\n      <td>NL</td>\n      <td>0.54</td>\n      <td>7.00</td>\n      <td>5.11</td>\n      <td>-</td>\n      <td>0.00</td>\n      <td>0.47</td>\n      <td>4.82%</td>\n      <td>7.50%</td>\n      <td>-15.60%</td>\n      <td>90.00%</td>\n      <td>83.00%</td>\n    </tr>\n    <tr>\n      <td>GSB</td>\n      <td>8.39</td>\n      <td>12.83</td>\n      <td>-</td>\n      <td>-</td>\n      <td>0.00</td>\n      <td>0.69</td>\n      <td>0.67%</td>\n      <td>75.00%</td>\n      <td>22.30%</td>\n      <td>319.30%</td>\n      <td>7.10%</td>\n    </tr>\n  </tbody>\n</table>\n</div>",
      "text/plain": "      P/B    P/E Forward P/E   PEG Debt/Eq EPS (ttm) Dividend %     ROE  \\\nIBM  5.71  12.51        9.47  1.72    3.02     10.73      4.83%  51.70%   \nNL   0.54   7.00        5.11     -    0.00      0.47      4.82%   7.50%   \nGSB  8.39  12.83           -     -    0.00      0.69      0.67%  75.00%   \n\n         ROI  EPS Q/Q Insider Own  \nIBM   11.40%   -5.00%       0.10%  \nNL   -15.60%   90.00%      83.00%  \nGSB   22.30%  319.30%       7.10%  "
     },
     "execution_count": 33,
     "metadata": {},
     "output_type": "execute_result"
    }
   ],
   "source": [
    "dfUnfiltered=df.dropna()\n",
    "dfUnfiltered=dfUnfiltered[dfUnfiltered['P/E'] != '-']\n",
    "dfUnfiltered = dfUnfiltered[(dfUnfiltered['P/E'].astype(float)<15)]\n",
    "dfUnfiltered"
   ]
  },
  {
   "cell_type": "code",
   "execution_count": null,
   "metadata": {},
   "outputs": [],
   "source": []
  }
 ]
}