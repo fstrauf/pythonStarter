{
 "nbformat": 4,
 "nbformat_minor": 2,
 "metadata": {
  "language_info": {
   "name": "python",
   "codemirror_mode": {
    "name": "ipython",
    "version": 3
   },
   "version": "3.7.5-final"
  },
  "orig_nbformat": 2,
  "file_extension": ".py",
  "mimetype": "text/x-python",
  "name": "python",
  "npconvert_exporter": "python",
  "pygments_lexer": "ipython3",
  "version": 3,
  "kernelspec": {
   "name": "python37564bit1f4ad654027c4dc091c2edf00f538525",
   "display_name": "Python 3.7.5 64-bit"
  }
 },
 "cells": [
  {
   "cell_type": "code",
   "execution_count": 1,
   "metadata": {},
   "outputs": [
    {
     "name": "stdout",
     "output_type": "stream",
     "text": "Python version: 3.7.5\nPlotly version: 4.5.2\n2.4\n"
    },
    {
     "data": {
      "text/html": "        <script type=\"text/javascript\">\n        window.PlotlyConfig = {MathJaxConfig: 'local'};\n        if (window.MathJax) {MathJax.Hub.Config({SVG: {font: \"STIX-Web\"}});}\n        if (typeof require !== 'undefined') {\n        require.undef(\"plotly\");\n        requirejs.config({\n            paths: {\n                'plotly': ['https://cdn.plot.ly/plotly-latest.min']\n            }\n        });\n        require(['plotly'], function(Plotly) {\n            window._Plotly = Plotly;\n        });\n        }\n        </script>\n        "
     },
     "metadata": {},
     "output_type": "display_data"
    }
   ],
   "source": [
    "import platform\n",
    "print(f'Python version: {platform.python_version()}')\n",
    "import plotly\n",
    "print(f\"Plotly version: {plotly.__version__}\")\n",
    "import networkx\n",
    "print (networkx.__version__)\n",
    "import networkx as nx\n",
    "from plotly.offline import download_plotlyjs, init_notebook_mode,  iplot, plot\n",
    "init_notebook_mode(connected=True)"
   ]
  },
  {
   "cell_type": "code",
   "execution_count": 2,
   "metadata": {},
   "outputs": [],
   "source": [
    "G=nx.Graph()#  G is an empty Graph"
   ]
  },
  {
   "cell_type": "code",
   "execution_count": 3,
   "metadata": {},
   "outputs": [],
   "source": [
    "my_nodes=range(9)\n",
    "G.add_nodes_from(my_nodes)\n",
    "my_edges=[(0,1), (0,2), (1,3), (1,4), (1,7), (2,5), (2,8), (3, 4), (3,5),(4,6), (4,7), (4,8), (5,7)]\n",
    "G.add_edges_from(my_edges)\n",
    "G.add_edge(6,8)"
   ]
  },
  {
   "cell_type": "code",
   "execution_count": 4,
   "metadata": {},
   "outputs": [
    {
     "data": {
      "text/plain": "{0: array([-0.65835246,  0.64325593]),\n 1: array([-0.53409248, -0.11662054]),\n 2: array([0.02457896, 0.67629343]),\n 3: array([-0.42091152, -0.57520569]),\n 4: array([ 0.26571499, -0.30282449]),\n 5: array([-0.2181286 ,  0.08811531]),\n 6: array([ 1.        , -0.23138023]),\n 7: array([-0.12411402, -0.44223839]),\n 8: array([0.66530514, 0.26060466])}"
     },
     "execution_count": 4,
     "metadata": {},
     "output_type": "execute_result"
    }
   ],
   "source": [
    "pos=nx.fruchterman_reingold_layout(G)   \n",
    "pos"
   ]
  },
  {
   "cell_type": "code",
   "execution_count": 5,
   "metadata": {},
   "outputs": [],
   "source": [
    "labels=['Bank-1', 'Property','Assets', 'Bank-2', 'Offshore', 'Paradise-papers', 'Glencore', 'Hoifu-Energy', 'Bank-3']"
   ]
  },
  {
   "cell_type": "code",
   "execution_count": 6,
   "metadata": {},
   "outputs": [],
   "source": [
    "Xn=[pos[k][0] for k in range(len(pos))]\n",
    "Yn=[pos[k][1] for k in range(len(pos))]"
   ]
  },
  {
   "cell_type": "code",
   "execution_count": 7,
   "metadata": {},
   "outputs": [
    {
     "data": {
      "text/plain": "[-0.6583524587061523,\n -0.534092484330956,\n 0.024578956790561213,\n -0.42091152004367677,\n 0.2657149888011491,\n -0.21812859984374638,\n 1.0,\n -0.12411402490682828,\n 0.6653051422396493]"
     },
     "execution_count": 7,
     "metadata": {},
     "output_type": "execute_result"
    }
   ],
   "source": [
    "Xn"
   ]
  }
 ]
}